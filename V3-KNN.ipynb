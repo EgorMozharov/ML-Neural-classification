{
 "cells": [
  {
   "cell_type": "markdown",
   "metadata": {
    "id": "Erc2A41DMzku"
   },
   "source": [
    "# DSBA 22/23 HSE & University of London\n",
    "\n",
    "# Practical assignment 1. DL in classification.\n",
    "\n",
    "## General info\n",
    "Release data: 26.09.2022\n",
    "\n",
    "Soft deadline: 10.10.2022 23:59 MSK\n",
    "\n",
    "Hard deadline: 13.10.2021 23:59 MSK\n",
    "\n",
    "In this task, you are to build a NN for a binary classification task. We suggest using Google Colab for access to GPU. Competition invite link: https://www.kaggle.com/t/1917e22edb71437ca24d790ab1d57695\n",
    "\n",
    "## Evaluation and fines\n",
    "\n",
    "Each section has a defined \"value\" (in brackets near the section). Maximum grade for the task - 10 points, other points can be assigned to your tests.\n",
    "\n",
    "**Your notebook with the best solution must be reproducible should be sent to the dropbox!** If the assessor cannot reproduce your results, you may be assigned score = 0, so make all your computations fixed!\n",
    "\n",
    "**You can only use neural networks / linear / nearest neighbors models for this task - tree-based models are forbidden!**\n",
    "\n",
    "All the parts must be done independently.\n",
    "\n",
    "After the hard deadline is passed, the hometask is not accepted. If you send the hometask after the soft deadline, you will be excluded from competition among your mates and the homework will only be scored by the \"Beating the baseline\" part.\n",
    "\n",
    "Feel free to ask questions both the teacher and your mates, but __do not copy the code or do it together__. \"Similar\" solutions are considered a plagiarism and all the involved students (the ones who gave & the ones who did) cannot get more than 0.01 points for the task. If you found a solution in some open source, you __must__ reference it in a special block at the end of your work (to exclude the suspicions in plagiarism).\n",
    "\n",
    "\n",
    "## Format of handing over\n",
    "\n",
    "The tasks are sent to the dropbox: https://www.dropbox.com/request/Y6TJouxNbm3r0RgcBL35. Don't forget to attach your name, surname & your group.\n"
   ]
  },
  {
   "cell_type": "markdown",
   "metadata": {
    "id": "VwMZDBm4S9o3"
   },
   "source": [
    "## 1. Model training\n",
    "\n",
    "**Important!** Public Leaderboard contains only 33% of the test data. Your points will be measured wrt to the whole test set, therefore your position on the LB after the end of the competition may change.\n",
    "\n",
    "* test_accuracy > weak baseline (public LB): 3 points\n",
    "\n",
    "* test_accuracy > medium baseline (public LB): + 3 points\n",
    "\n",
    "* test_accuracy > strong baseline (public LB): + 2 points\n",
    "\n",
    "* You are among 25% most successful students (private LB): + 2 point\n",
    "\n",
    "* You are among top-3 most successful students (private LB): + 1 point\n",
    "\n",
    "* You are among top-2 most successful students (private LB): + 1 point\n",
    "\n",
    "* You are among top-1 most successful students (private LB): + 1 point"
   ]
  },
  {
   "cell_type": "code",
   "execution_count": 1,
   "metadata": {
    "id": "VnJmCRD8S9o3"
   },
   "outputs": [],
   "source": [
    "# Your code here ╰( ͡° ͜ʖ ͡° )つ──☆*:"
   ]
  },
  {
   "cell_type": "code",
   "execution_count": 48,
   "metadata": {
    "id": "WLBmP2zTFmnB"
   },
   "outputs": [],
   "source": [
    "import pandas as pd\n",
    "import numpy as np\n",
    "import matplotlib.pyplot as plt\n",
    "import seaborn as sns"
   ]
  },
  {
   "cell_type": "code",
   "execution_count": 49,
   "metadata": {
    "id": "c6tn9gN7ohs9"
   },
   "outputs": [],
   "source": [
    "import torch\n",
    "from torch import nn\n",
    "from torch.nn import functional as F\n",
    "from torch.utils.data import Dataset, DataLoader"
   ]
  },
  {
   "cell_type": "code",
   "execution_count": 50,
   "metadata": {
    "id": "3Tj4gkZnWENb"
   },
   "outputs": [],
   "source": [
    "from sklearn import preprocessing\n",
    "from sklearn.metrics import classification_report\n",
    "from sklearn.model_selection import GridSearchCV\n",
    "from sklearn.preprocessing import OneHotEncoder\n",
    "from sklearn.model_selection import train_test_split\n",
    "from sklearn.preprocessing import StandardScaler"
   ]
  },
  {
   "cell_type": "code",
   "execution_count": 51,
   "metadata": {
    "id": "LudqW7xct2rH"
   },
   "outputs": [],
   "source": [
    "from tensorflow import keras\n",
    "from keras.wrappers.scikit_learn import KerasClassifier\n",
    "from keras.utils import np_utils\n",
    "from keras.models import Sequential\n",
    "from keras.layers import Dense, Dropout, BatchNormalization\n",
    "from keras.callbacks import EarlyStopping\n",
    "from tensorflow.keras.optimizers import SGD"
   ]
  },
  {
   "cell_type": "markdown",
   "metadata": {
    "id": "i9PHJ1f-gPTm"
   },
   "source": [
    "# **Preprocessing data**"
   ]
  },
  {
   "cell_type": "code",
   "execution_count": 52,
   "metadata": {
    "id": "P3YAH9EgS9o3"
   },
   "outputs": [],
   "source": [
    "train_df = pd.read_csv('train.csv')\n",
    "test_df = pd.read_csv('test.csv')\n",
    "target_df = pd.read_csv('train_target.csv')\n",
    "train_expected_target1 = pd.read_csv('train_expected_target_agent_1.csv')\n",
    "train_expected_target2 = pd.read_csv('train_expected_target_agent_2.csv')\n",
    "train_target_agent_1 = pd.read_csv('train_target_agent_1.csv')\n",
    "train_target_agent_2 = pd.read_csv('train_target_agent_2.csv')"
   ]
  },
  {
   "cell_type": "code",
   "execution_count": 53,
   "metadata": {},
   "outputs": [],
   "source": [
    "train_target_agent_1 = train_target_agent_1.rename(columns={\"0\": \"expected_target1\"})\n",
    "train_target_agent_2 = train_target_agent_2.rename(columns={\"0\": \"expected_target2\"})"
   ]
  },
  {
   "cell_type": "code",
   "execution_count": 54,
   "metadata": {},
   "outputs": [],
   "source": [
    "train_df = pd.concat([train_df, train_target_agent_1, train_target_agent_2], axis=1)"
   ]
  },
  {
   "cell_type": "code",
   "execution_count": 55,
   "metadata": {
    "colab": {
     "base_uri": "https://localhost:8080/",
     "height": 299
    },
    "id": "XtxGrhyjVEee",
    "outputId": "d81db566-83f9-47d1-c8e8-4c9333b09d31"
   },
   "outputs": [
    {
     "data": {
      "text/html": [
       "<div>\n",
       "<style scoped>\n",
       "    .dataframe tbody tr th:only-of-type {\n",
       "        vertical-align: middle;\n",
       "    }\n",
       "\n",
       "    .dataframe tbody tr th {\n",
       "        vertical-align: top;\n",
       "    }\n",
       "\n",
       "    .dataframe thead th {\n",
       "        text-align: right;\n",
       "    }\n",
       "</style>\n",
       "<table border=\"1\" class=\"dataframe\">\n",
       "  <thead>\n",
       "    <tr style=\"text-align: right;\">\n",
       "      <th></th>\n",
       "      <th>agent_1_feat_Possession%</th>\n",
       "      <th>agent_1_feat_Pass%</th>\n",
       "      <th>agent_1_feat_AerialsWon</th>\n",
       "      <th>agent_1_feat_Rating</th>\n",
       "      <th>agent_1_feat_XGrealiz</th>\n",
       "      <th>agent_1_feat_XGArealiz</th>\n",
       "      <th>agent_1_feat_PPDA</th>\n",
       "      <th>agent_1_feat_OPPDA</th>\n",
       "      <th>agent_1_feat_DC</th>\n",
       "      <th>agent_1_feat_ODC</th>\n",
       "      <th>...</th>\n",
       "      <th>agent_2_feattotal_xg_1</th>\n",
       "      <th>agent_2_feattotal_xg_mean_3</th>\n",
       "      <th>agent_2_feattotal_xg_mean</th>\n",
       "      <th>agent_2_featboth_scored_3</th>\n",
       "      <th>agent_2_featboth_scored_2</th>\n",
       "      <th>agent_2_featboth_scored_1</th>\n",
       "      <th>agent_2_featboth_scored_mean_3</th>\n",
       "      <th>agent_2_featboth_scored_mean</th>\n",
       "      <th>expected_target1</th>\n",
       "      <th>expected_target2</th>\n",
       "    </tr>\n",
       "  </thead>\n",
       "  <tbody>\n",
       "    <tr>\n",
       "      <th>0</th>\n",
       "      <td>58.8</td>\n",
       "      <td>85.1</td>\n",
       "      <td>15.8</td>\n",
       "      <td>6.99</td>\n",
       "      <td>1.143700</td>\n",
       "      <td>0.928715</td>\n",
       "      <td>7.13</td>\n",
       "      <td>14.16</td>\n",
       "      <td>267.0</td>\n",
       "      <td>194.0</td>\n",
       "      <td>...</td>\n",
       "      <td>2.739439</td>\n",
       "      <td>2.739439</td>\n",
       "      <td>NaN</td>\n",
       "      <td>0.473684</td>\n",
       "      <td>0.473684</td>\n",
       "      <td>0.473684</td>\n",
       "      <td>0.473684</td>\n",
       "      <td>NaN</td>\n",
       "      <td>1</td>\n",
       "      <td>2</td>\n",
       "    </tr>\n",
       "    <tr>\n",
       "      <th>1</th>\n",
       "      <td>44.8</td>\n",
       "      <td>71.1</td>\n",
       "      <td>23.4</td>\n",
       "      <td>6.84</td>\n",
       "      <td>0.954159</td>\n",
       "      <td>0.975350</td>\n",
       "      <td>9.99</td>\n",
       "      <td>7.66</td>\n",
       "      <td>191.0</td>\n",
       "      <td>287.0</td>\n",
       "      <td>...</td>\n",
       "      <td>2.336756</td>\n",
       "      <td>2.336756</td>\n",
       "      <td>NaN</td>\n",
       "      <td>0.578947</td>\n",
       "      <td>0.578947</td>\n",
       "      <td>0.578947</td>\n",
       "      <td>0.578947</td>\n",
       "      <td>NaN</td>\n",
       "      <td>2</td>\n",
       "      <td>2</td>\n",
       "    </tr>\n",
       "    <tr>\n",
       "      <th>2</th>\n",
       "      <td>46.3</td>\n",
       "      <td>70.8</td>\n",
       "      <td>21.7</td>\n",
       "      <td>6.77</td>\n",
       "      <td>0.918434</td>\n",
       "      <td>1.118603</td>\n",
       "      <td>9.56</td>\n",
       "      <td>7.34</td>\n",
       "      <td>179.0</td>\n",
       "      <td>298.0</td>\n",
       "      <td>...</td>\n",
       "      <td>2.120322</td>\n",
       "      <td>2.120322</td>\n",
       "      <td>NaN</td>\n",
       "      <td>0.368421</td>\n",
       "      <td>0.368421</td>\n",
       "      <td>0.368421</td>\n",
       "      <td>0.368421</td>\n",
       "      <td>NaN</td>\n",
       "      <td>0</td>\n",
       "      <td>1</td>\n",
       "    </tr>\n",
       "    <tr>\n",
       "      <th>3</th>\n",
       "      <td>50.2</td>\n",
       "      <td>77.5</td>\n",
       "      <td>24.4</td>\n",
       "      <td>6.87</td>\n",
       "      <td>1.037613</td>\n",
       "      <td>0.956836</td>\n",
       "      <td>9.60</td>\n",
       "      <td>9.53</td>\n",
       "      <td>195.0</td>\n",
       "      <td>239.0</td>\n",
       "      <td>...</td>\n",
       "      <td>2.216415</td>\n",
       "      <td>2.216415</td>\n",
       "      <td>NaN</td>\n",
       "      <td>0.210526</td>\n",
       "      <td>0.210526</td>\n",
       "      <td>0.210526</td>\n",
       "      <td>0.210526</td>\n",
       "      <td>NaN</td>\n",
       "      <td>0</td>\n",
       "      <td>1</td>\n",
       "    </tr>\n",
       "    <tr>\n",
       "      <th>4</th>\n",
       "      <td>44.9</td>\n",
       "      <td>75.0</td>\n",
       "      <td>17.2</td>\n",
       "      <td>6.77</td>\n",
       "      <td>0.983691</td>\n",
       "      <td>0.948837</td>\n",
       "      <td>12.24</td>\n",
       "      <td>8.76</td>\n",
       "      <td>161.0</td>\n",
       "      <td>283.0</td>\n",
       "      <td>...</td>\n",
       "      <td>2.604025</td>\n",
       "      <td>2.604025</td>\n",
       "      <td>NaN</td>\n",
       "      <td>0.421053</td>\n",
       "      <td>0.421053</td>\n",
       "      <td>0.421053</td>\n",
       "      <td>0.421053</td>\n",
       "      <td>NaN</td>\n",
       "      <td>2</td>\n",
       "      <td>2</td>\n",
       "    </tr>\n",
       "  </tbody>\n",
       "</table>\n",
       "<p>5 rows × 236 columns</p>\n",
       "</div>"
      ],
      "text/plain": [
       "   agent_1_feat_Possession%  agent_1_feat_Pass%  agent_1_feat_AerialsWon  \\\n",
       "0                      58.8                85.1                     15.8   \n",
       "1                      44.8                71.1                     23.4   \n",
       "2                      46.3                70.8                     21.7   \n",
       "3                      50.2                77.5                     24.4   \n",
       "4                      44.9                75.0                     17.2   \n",
       "\n",
       "   agent_1_feat_Rating  agent_1_feat_XGrealiz  agent_1_feat_XGArealiz  \\\n",
       "0                 6.99               1.143700                0.928715   \n",
       "1                 6.84               0.954159                0.975350   \n",
       "2                 6.77               0.918434                1.118603   \n",
       "3                 6.87               1.037613                0.956836   \n",
       "4                 6.77               0.983691                0.948837   \n",
       "\n",
       "   agent_1_feat_PPDA  agent_1_feat_OPPDA  agent_1_feat_DC  agent_1_feat_ODC  \\\n",
       "0               7.13               14.16            267.0             194.0   \n",
       "1               9.99                7.66            191.0             287.0   \n",
       "2               9.56                7.34            179.0             298.0   \n",
       "3               9.60                9.53            195.0             239.0   \n",
       "4              12.24                8.76            161.0             283.0   \n",
       "\n",
       "   ...  agent_2_feattotal_xg_1  agent_2_feattotal_xg_mean_3  \\\n",
       "0  ...                2.739439                     2.739439   \n",
       "1  ...                2.336756                     2.336756   \n",
       "2  ...                2.120322                     2.120322   \n",
       "3  ...                2.216415                     2.216415   \n",
       "4  ...                2.604025                     2.604025   \n",
       "\n",
       "   agent_2_feattotal_xg_mean  agent_2_featboth_scored_3  \\\n",
       "0                        NaN                   0.473684   \n",
       "1                        NaN                   0.578947   \n",
       "2                        NaN                   0.368421   \n",
       "3                        NaN                   0.210526   \n",
       "4                        NaN                   0.421053   \n",
       "\n",
       "   agent_2_featboth_scored_2  agent_2_featboth_scored_1  \\\n",
       "0                   0.473684                   0.473684   \n",
       "1                   0.578947                   0.578947   \n",
       "2                   0.368421                   0.368421   \n",
       "3                   0.210526                   0.210526   \n",
       "4                   0.421053                   0.421053   \n",
       "\n",
       "   agent_2_featboth_scored_mean_3  agent_2_featboth_scored_mean  \\\n",
       "0                        0.473684                           NaN   \n",
       "1                        0.578947                           NaN   \n",
       "2                        0.368421                           NaN   \n",
       "3                        0.210526                           NaN   \n",
       "4                        0.421053                           NaN   \n",
       "\n",
       "   expected_target1  expected_target2  \n",
       "0                 1                 2  \n",
       "1                 2                 2  \n",
       "2                 0                 1  \n",
       "3                 0                 1  \n",
       "4                 2                 2  \n",
       "\n",
       "[5 rows x 236 columns]"
      ]
     },
     "execution_count": 55,
     "metadata": {},
     "output_type": "execute_result"
    }
   ],
   "source": [
    "train_df.head()"
   ]
  },
  {
   "cell_type": "code",
   "execution_count": 56,
   "metadata": {
    "colab": {
     "base_uri": "https://localhost:8080/",
     "height": 299
    },
    "id": "fi9w8WcKVID2",
    "outputId": "3acc7dd6-6503-4c25-ccee-9bbc933f764b"
   },
   "outputs": [
    {
     "data": {
      "text/html": [
       "<div>\n",
       "<style scoped>\n",
       "    .dataframe tbody tr th:only-of-type {\n",
       "        vertical-align: middle;\n",
       "    }\n",
       "\n",
       "    .dataframe tbody tr th {\n",
       "        vertical-align: top;\n",
       "    }\n",
       "\n",
       "    .dataframe thead th {\n",
       "        text-align: right;\n",
       "    }\n",
       "</style>\n",
       "<table border=\"1\" class=\"dataframe\">\n",
       "  <thead>\n",
       "    <tr style=\"text-align: right;\">\n",
       "      <th></th>\n",
       "      <th>agent_1_feat_Possession%</th>\n",
       "      <th>agent_1_feat_Pass%</th>\n",
       "      <th>agent_1_feat_AerialsWon</th>\n",
       "      <th>agent_1_feat_Rating</th>\n",
       "      <th>agent_1_feat_XGrealiz</th>\n",
       "      <th>agent_1_feat_XGArealiz</th>\n",
       "      <th>agent_1_feat_PPDA</th>\n",
       "      <th>agent_1_feat_OPPDA</th>\n",
       "      <th>agent_1_feat_DC</th>\n",
       "      <th>agent_1_feat_ODC</th>\n",
       "      <th>...</th>\n",
       "      <th>agent_2_feattotal_xg_3</th>\n",
       "      <th>agent_2_feattotal_xg_2</th>\n",
       "      <th>agent_2_feattotal_xg_1</th>\n",
       "      <th>agent_2_feattotal_xg_mean_3</th>\n",
       "      <th>agent_2_feattotal_xg_mean</th>\n",
       "      <th>agent_2_featboth_scored_3</th>\n",
       "      <th>agent_2_featboth_scored_2</th>\n",
       "      <th>agent_2_featboth_scored_1</th>\n",
       "      <th>agent_2_featboth_scored_mean_3</th>\n",
       "      <th>agent_2_featboth_scored_mean</th>\n",
       "    </tr>\n",
       "  </thead>\n",
       "  <tbody>\n",
       "    <tr>\n",
       "      <th>0</th>\n",
       "      <td>58.6</td>\n",
       "      <td>87.0</td>\n",
       "      <td>15.2</td>\n",
       "      <td>6.83</td>\n",
       "      <td>0.844742</td>\n",
       "      <td>1.165049</td>\n",
       "      <td>9.19</td>\n",
       "      <td>16.50</td>\n",
       "      <td>337.0</td>\n",
       "      <td>179.0</td>\n",
       "      <td>...</td>\n",
       "      <td>2.661870</td>\n",
       "      <td>1.893116</td>\n",
       "      <td>4.241360</td>\n",
       "      <td>2.932115</td>\n",
       "      <td>2.690442</td>\n",
       "      <td>1.0</td>\n",
       "      <td>0.0</td>\n",
       "      <td>1.0</td>\n",
       "      <td>0.666667</td>\n",
       "      <td>0.333333</td>\n",
       "    </tr>\n",
       "    <tr>\n",
       "      <th>1</th>\n",
       "      <td>50.7</td>\n",
       "      <td>81.3</td>\n",
       "      <td>14.2</td>\n",
       "      <td>6.65</td>\n",
       "      <td>0.743218</td>\n",
       "      <td>1.152593</td>\n",
       "      <td>10.31</td>\n",
       "      <td>13.63</td>\n",
       "      <td>311.0</td>\n",
       "      <td>208.0</td>\n",
       "      <td>...</td>\n",
       "      <td>3.550724</td>\n",
       "      <td>2.373700</td>\n",
       "      <td>4.197010</td>\n",
       "      <td>3.373811</td>\n",
       "      <td>3.075302</td>\n",
       "      <td>0.0</td>\n",
       "      <td>1.0</td>\n",
       "      <td>1.0</td>\n",
       "      <td>0.666667</td>\n",
       "      <td>0.625000</td>\n",
       "    </tr>\n",
       "    <tr>\n",
       "      <th>2</th>\n",
       "      <td>47.3</td>\n",
       "      <td>81.4</td>\n",
       "      <td>17.7</td>\n",
       "      <td>6.73</td>\n",
       "      <td>0.954509</td>\n",
       "      <td>0.956938</td>\n",
       "      <td>14.21</td>\n",
       "      <td>11.82</td>\n",
       "      <td>207.0</td>\n",
       "      <td>270.0</td>\n",
       "      <td>...</td>\n",
       "      <td>2.693652</td>\n",
       "      <td>2.042668</td>\n",
       "      <td>0.966665</td>\n",
       "      <td>1.900995</td>\n",
       "      <td>3.007033</td>\n",
       "      <td>0.0</td>\n",
       "      <td>1.0</td>\n",
       "      <td>1.0</td>\n",
       "      <td>0.666667</td>\n",
       "      <td>0.555556</td>\n",
       "    </tr>\n",
       "    <tr>\n",
       "      <th>3</th>\n",
       "      <td>54.5</td>\n",
       "      <td>84.8</td>\n",
       "      <td>14.5</td>\n",
       "      <td>6.85</td>\n",
       "      <td>1.155612</td>\n",
       "      <td>1.049618</td>\n",
       "      <td>10.95</td>\n",
       "      <td>12.46</td>\n",
       "      <td>339.0</td>\n",
       "      <td>186.0</td>\n",
       "      <td>...</td>\n",
       "      <td>3.938100</td>\n",
       "      <td>1.466409</td>\n",
       "      <td>0.922046</td>\n",
       "      <td>2.108852</td>\n",
       "      <td>2.643923</td>\n",
       "      <td>1.0</td>\n",
       "      <td>0.0</td>\n",
       "      <td>0.0</td>\n",
       "      <td>0.333333</td>\n",
       "      <td>0.444444</td>\n",
       "    </tr>\n",
       "    <tr>\n",
       "      <th>4</th>\n",
       "      <td>51.3</td>\n",
       "      <td>81.8</td>\n",
       "      <td>16.4</td>\n",
       "      <td>6.81</td>\n",
       "      <td>1.199718</td>\n",
       "      <td>0.856327</td>\n",
       "      <td>11.27</td>\n",
       "      <td>11.52</td>\n",
       "      <td>193.0</td>\n",
       "      <td>293.0</td>\n",
       "      <td>...</td>\n",
       "      <td>3.358338</td>\n",
       "      <td>2.138405</td>\n",
       "      <td>1.872476</td>\n",
       "      <td>2.456406</td>\n",
       "      <td>3.113815</td>\n",
       "      <td>0.0</td>\n",
       "      <td>0.0</td>\n",
       "      <td>0.0</td>\n",
       "      <td>0.000000</td>\n",
       "      <td>0.555556</td>\n",
       "    </tr>\n",
       "  </tbody>\n",
       "</table>\n",
       "<p>5 rows × 234 columns</p>\n",
       "</div>"
      ],
      "text/plain": [
       "   agent_1_feat_Possession%  agent_1_feat_Pass%  agent_1_feat_AerialsWon  \\\n",
       "0                      58.6                87.0                     15.2   \n",
       "1                      50.7                81.3                     14.2   \n",
       "2                      47.3                81.4                     17.7   \n",
       "3                      54.5                84.8                     14.5   \n",
       "4                      51.3                81.8                     16.4   \n",
       "\n",
       "   agent_1_feat_Rating  agent_1_feat_XGrealiz  agent_1_feat_XGArealiz  \\\n",
       "0                 6.83               0.844742                1.165049   \n",
       "1                 6.65               0.743218                1.152593   \n",
       "2                 6.73               0.954509                0.956938   \n",
       "3                 6.85               1.155612                1.049618   \n",
       "4                 6.81               1.199718                0.856327   \n",
       "\n",
       "   agent_1_feat_PPDA  agent_1_feat_OPPDA  agent_1_feat_DC  agent_1_feat_ODC  \\\n",
       "0               9.19               16.50            337.0             179.0   \n",
       "1              10.31               13.63            311.0             208.0   \n",
       "2              14.21               11.82            207.0             270.0   \n",
       "3              10.95               12.46            339.0             186.0   \n",
       "4              11.27               11.52            193.0             293.0   \n",
       "\n",
       "   ...  agent_2_feattotal_xg_3  agent_2_feattotal_xg_2  \\\n",
       "0  ...                2.661870                1.893116   \n",
       "1  ...                3.550724                2.373700   \n",
       "2  ...                2.693652                2.042668   \n",
       "3  ...                3.938100                1.466409   \n",
       "4  ...                3.358338                2.138405   \n",
       "\n",
       "   agent_2_feattotal_xg_1  agent_2_feattotal_xg_mean_3  \\\n",
       "0                4.241360                     2.932115   \n",
       "1                4.197010                     3.373811   \n",
       "2                0.966665                     1.900995   \n",
       "3                0.922046                     2.108852   \n",
       "4                1.872476                     2.456406   \n",
       "\n",
       "   agent_2_feattotal_xg_mean  agent_2_featboth_scored_3  \\\n",
       "0                   2.690442                        1.0   \n",
       "1                   3.075302                        0.0   \n",
       "2                   3.007033                        0.0   \n",
       "3                   2.643923                        1.0   \n",
       "4                   3.113815                        0.0   \n",
       "\n",
       "   agent_2_featboth_scored_2  agent_2_featboth_scored_1  \\\n",
       "0                        0.0                        1.0   \n",
       "1                        1.0                        1.0   \n",
       "2                        1.0                        1.0   \n",
       "3                        0.0                        0.0   \n",
       "4                        0.0                        0.0   \n",
       "\n",
       "   agent_2_featboth_scored_mean_3  agent_2_featboth_scored_mean  \n",
       "0                        0.666667                      0.333333  \n",
       "1                        0.666667                      0.625000  \n",
       "2                        0.666667                      0.555556  \n",
       "3                        0.333333                      0.444444  \n",
       "4                        0.000000                      0.555556  \n",
       "\n",
       "[5 rows x 234 columns]"
      ]
     },
     "execution_count": 56,
     "metadata": {},
     "output_type": "execute_result"
    }
   ],
   "source": [
    "test_df.head()"
   ]
  },
  {
   "cell_type": "code",
   "execution_count": 57,
   "metadata": {
    "colab": {
     "base_uri": "https://localhost:8080/"
    },
    "id": "-WlvCdFqVUSf",
    "outputId": "95181e8f-d145-49d6-8c1f-7520814b665c"
   },
   "outputs": [
    {
     "data": {
      "text/plain": [
       "(2470, 236)"
      ]
     },
     "execution_count": 57,
     "metadata": {},
     "output_type": "execute_result"
    }
   ],
   "source": [
    "train_df.shape"
   ]
  },
  {
   "cell_type": "code",
   "execution_count": 58,
   "metadata": {
    "colab": {
     "base_uri": "https://localhost:8080/"
    },
    "id": "kjIbnhiPVYT-",
    "outputId": "8c96af8c-bf60-401c-b737-9294f66f3cc0"
   },
   "outputs": [
    {
     "name": "stdout",
     "output_type": "stream",
     "text": [
      "<class 'pandas.core.frame.DataFrame'>\n",
      "RangeIndex: 2470 entries, 0 to 2469\n",
      "Columns: 236 entries, agent_1_feat_Possession% to expected_target2\n",
      "dtypes: float64(212), int64(24)\n",
      "memory usage: 4.4 MB\n"
     ]
    }
   ],
   "source": [
    "train_df.info()"
   ]
  },
  {
   "cell_type": "code",
   "execution_count": 59,
   "metadata": {
    "id": "ceY_OeBgqdO8"
   },
   "outputs": [],
   "source": [
    "target_df.drop('id', axis = 1, inplace = True)"
   ]
  },
  {
   "cell_type": "code",
   "execution_count": 60,
   "metadata": {
    "id": "p0N_mUFAqMIj"
   },
   "outputs": [],
   "source": [
    "train_df = pd.concat([target_df, train_df], axis = 1)"
   ]
  },
  {
   "cell_type": "code",
   "execution_count": 61,
   "metadata": {
    "colab": {
     "base_uri": "https://localhost:8080/",
     "height": 487
    },
    "id": "1TZbR6awq_C9",
    "outputId": "12ad58c1-8a7b-4bb0-dff6-5aac2487450b"
   },
   "outputs": [
    {
     "data": {
      "text/html": [
       "<div>\n",
       "<style scoped>\n",
       "    .dataframe tbody tr th:only-of-type {\n",
       "        vertical-align: middle;\n",
       "    }\n",
       "\n",
       "    .dataframe tbody tr th {\n",
       "        vertical-align: top;\n",
       "    }\n",
       "\n",
       "    .dataframe thead th {\n",
       "        text-align: right;\n",
       "    }\n",
       "</style>\n",
       "<table border=\"1\" class=\"dataframe\">\n",
       "  <thead>\n",
       "    <tr style=\"text-align: right;\">\n",
       "      <th></th>\n",
       "      <th>category</th>\n",
       "      <th>agent_1_feat_Possession%</th>\n",
       "      <th>agent_1_feat_Pass%</th>\n",
       "      <th>agent_1_feat_AerialsWon</th>\n",
       "      <th>agent_1_feat_Rating</th>\n",
       "      <th>agent_1_feat_XGrealiz</th>\n",
       "      <th>agent_1_feat_XGArealiz</th>\n",
       "      <th>agent_1_feat_PPDA</th>\n",
       "      <th>agent_1_feat_OPPDA</th>\n",
       "      <th>agent_1_feat_DC</th>\n",
       "      <th>...</th>\n",
       "      <th>agent_2_feattotal_xg_1</th>\n",
       "      <th>agent_2_feattotal_xg_mean_3</th>\n",
       "      <th>agent_2_feattotal_xg_mean</th>\n",
       "      <th>agent_2_featboth_scored_3</th>\n",
       "      <th>agent_2_featboth_scored_2</th>\n",
       "      <th>agent_2_featboth_scored_1</th>\n",
       "      <th>agent_2_featboth_scored_mean_3</th>\n",
       "      <th>agent_2_featboth_scored_mean</th>\n",
       "      <th>expected_target1</th>\n",
       "      <th>expected_target2</th>\n",
       "    </tr>\n",
       "  </thead>\n",
       "  <tbody>\n",
       "    <tr>\n",
       "      <th>0</th>\n",
       "      <td>1</td>\n",
       "      <td>58.8</td>\n",
       "      <td>85.1</td>\n",
       "      <td>15.8</td>\n",
       "      <td>6.99</td>\n",
       "      <td>1.143700</td>\n",
       "      <td>0.928715</td>\n",
       "      <td>7.13</td>\n",
       "      <td>14.16</td>\n",
       "      <td>267.0</td>\n",
       "      <td>...</td>\n",
       "      <td>2.739439</td>\n",
       "      <td>2.739439</td>\n",
       "      <td>NaN</td>\n",
       "      <td>0.473684</td>\n",
       "      <td>0.473684</td>\n",
       "      <td>0.473684</td>\n",
       "      <td>0.473684</td>\n",
       "      <td>NaN</td>\n",
       "      <td>1</td>\n",
       "      <td>2</td>\n",
       "    </tr>\n",
       "    <tr>\n",
       "      <th>1</th>\n",
       "      <td>1</td>\n",
       "      <td>44.8</td>\n",
       "      <td>71.1</td>\n",
       "      <td>23.4</td>\n",
       "      <td>6.84</td>\n",
       "      <td>0.954159</td>\n",
       "      <td>0.975350</td>\n",
       "      <td>9.99</td>\n",
       "      <td>7.66</td>\n",
       "      <td>191.0</td>\n",
       "      <td>...</td>\n",
       "      <td>2.336756</td>\n",
       "      <td>2.336756</td>\n",
       "      <td>NaN</td>\n",
       "      <td>0.578947</td>\n",
       "      <td>0.578947</td>\n",
       "      <td>0.578947</td>\n",
       "      <td>0.578947</td>\n",
       "      <td>NaN</td>\n",
       "      <td>2</td>\n",
       "      <td>2</td>\n",
       "    </tr>\n",
       "    <tr>\n",
       "      <th>2</th>\n",
       "      <td>0</td>\n",
       "      <td>46.3</td>\n",
       "      <td>70.8</td>\n",
       "      <td>21.7</td>\n",
       "      <td>6.77</td>\n",
       "      <td>0.918434</td>\n",
       "      <td>1.118603</td>\n",
       "      <td>9.56</td>\n",
       "      <td>7.34</td>\n",
       "      <td>179.0</td>\n",
       "      <td>...</td>\n",
       "      <td>2.120322</td>\n",
       "      <td>2.120322</td>\n",
       "      <td>NaN</td>\n",
       "      <td>0.368421</td>\n",
       "      <td>0.368421</td>\n",
       "      <td>0.368421</td>\n",
       "      <td>0.368421</td>\n",
       "      <td>NaN</td>\n",
       "      <td>0</td>\n",
       "      <td>1</td>\n",
       "    </tr>\n",
       "    <tr>\n",
       "      <th>3</th>\n",
       "      <td>0</td>\n",
       "      <td>50.2</td>\n",
       "      <td>77.5</td>\n",
       "      <td>24.4</td>\n",
       "      <td>6.87</td>\n",
       "      <td>1.037613</td>\n",
       "      <td>0.956836</td>\n",
       "      <td>9.60</td>\n",
       "      <td>9.53</td>\n",
       "      <td>195.0</td>\n",
       "      <td>...</td>\n",
       "      <td>2.216415</td>\n",
       "      <td>2.216415</td>\n",
       "      <td>NaN</td>\n",
       "      <td>0.210526</td>\n",
       "      <td>0.210526</td>\n",
       "      <td>0.210526</td>\n",
       "      <td>0.210526</td>\n",
       "      <td>NaN</td>\n",
       "      <td>0</td>\n",
       "      <td>1</td>\n",
       "    </tr>\n",
       "    <tr>\n",
       "      <th>4</th>\n",
       "      <td>1</td>\n",
       "      <td>44.9</td>\n",
       "      <td>75.0</td>\n",
       "      <td>17.2</td>\n",
       "      <td>6.77</td>\n",
       "      <td>0.983691</td>\n",
       "      <td>0.948837</td>\n",
       "      <td>12.24</td>\n",
       "      <td>8.76</td>\n",
       "      <td>161.0</td>\n",
       "      <td>...</td>\n",
       "      <td>2.604025</td>\n",
       "      <td>2.604025</td>\n",
       "      <td>NaN</td>\n",
       "      <td>0.421053</td>\n",
       "      <td>0.421053</td>\n",
       "      <td>0.421053</td>\n",
       "      <td>0.421053</td>\n",
       "      <td>NaN</td>\n",
       "      <td>2</td>\n",
       "      <td>2</td>\n",
       "    </tr>\n",
       "    <tr>\n",
       "      <th>...</th>\n",
       "      <td>...</td>\n",
       "      <td>...</td>\n",
       "      <td>...</td>\n",
       "      <td>...</td>\n",
       "      <td>...</td>\n",
       "      <td>...</td>\n",
       "      <td>...</td>\n",
       "      <td>...</td>\n",
       "      <td>...</td>\n",
       "      <td>...</td>\n",
       "      <td>...</td>\n",
       "      <td>...</td>\n",
       "      <td>...</td>\n",
       "      <td>...</td>\n",
       "      <td>...</td>\n",
       "      <td>...</td>\n",
       "      <td>...</td>\n",
       "      <td>...</td>\n",
       "      <td>...</td>\n",
       "      <td>...</td>\n",
       "      <td>...</td>\n",
       "    </tr>\n",
       "    <tr>\n",
       "      <th>2465</th>\n",
       "      <td>1</td>\n",
       "      <td>41.6</td>\n",
       "      <td>76.0</td>\n",
       "      <td>17.1</td>\n",
       "      <td>6.62</td>\n",
       "      <td>1.046406</td>\n",
       "      <td>1.032989</td>\n",
       "      <td>18.00</td>\n",
       "      <td>8.27</td>\n",
       "      <td>138.0</td>\n",
       "      <td>...</td>\n",
       "      <td>3.684860</td>\n",
       "      <td>4.024907</td>\n",
       "      <td>3.872622</td>\n",
       "      <td>1.000000</td>\n",
       "      <td>0.000000</td>\n",
       "      <td>0.000000</td>\n",
       "      <td>0.333333</td>\n",
       "      <td>0.444444</td>\n",
       "      <td>1</td>\n",
       "      <td>2</td>\n",
       "    </tr>\n",
       "    <tr>\n",
       "      <th>2466</th>\n",
       "      <td>1</td>\n",
       "      <td>42.9</td>\n",
       "      <td>76.1</td>\n",
       "      <td>18.3</td>\n",
       "      <td>6.61</td>\n",
       "      <td>1.161802</td>\n",
       "      <td>1.066236</td>\n",
       "      <td>16.14</td>\n",
       "      <td>7.60</td>\n",
       "      <td>201.0</td>\n",
       "      <td>...</td>\n",
       "      <td>1.568175</td>\n",
       "      <td>2.000313</td>\n",
       "      <td>2.572016</td>\n",
       "      <td>0.000000</td>\n",
       "      <td>0.000000</td>\n",
       "      <td>0.000000</td>\n",
       "      <td>0.000000</td>\n",
       "      <td>0.444444</td>\n",
       "      <td>2</td>\n",
       "      <td>3</td>\n",
       "    </tr>\n",
       "    <tr>\n",
       "      <th>2467</th>\n",
       "      <td>0</td>\n",
       "      <td>41.0</td>\n",
       "      <td>72.2</td>\n",
       "      <td>19.1</td>\n",
       "      <td>6.51</td>\n",
       "      <td>1.000858</td>\n",
       "      <td>1.026472</td>\n",
       "      <td>15.99</td>\n",
       "      <td>7.99</td>\n",
       "      <td>164.0</td>\n",
       "      <td>...</td>\n",
       "      <td>3.871643</td>\n",
       "      <td>2.496854</td>\n",
       "      <td>2.555157</td>\n",
       "      <td>0.000000</td>\n",
       "      <td>0.000000</td>\n",
       "      <td>1.000000</td>\n",
       "      <td>0.333333</td>\n",
       "      <td>0.500000</td>\n",
       "      <td>0</td>\n",
       "      <td>5</td>\n",
       "    </tr>\n",
       "    <tr>\n",
       "      <th>2468</th>\n",
       "      <td>1</td>\n",
       "      <td>51.4</td>\n",
       "      <td>79.3</td>\n",
       "      <td>14.1</td>\n",
       "      <td>6.62</td>\n",
       "      <td>1.037986</td>\n",
       "      <td>1.161401</td>\n",
       "      <td>9.73</td>\n",
       "      <td>10.47</td>\n",
       "      <td>222.0</td>\n",
       "      <td>...</td>\n",
       "      <td>4.904164</td>\n",
       "      <td>2.977092</td>\n",
       "      <td>2.495116</td>\n",
       "      <td>1.000000</td>\n",
       "      <td>0.000000</td>\n",
       "      <td>0.000000</td>\n",
       "      <td>0.333333</td>\n",
       "      <td>0.222222</td>\n",
       "      <td>1</td>\n",
       "      <td>3</td>\n",
       "    </tr>\n",
       "    <tr>\n",
       "      <th>2469</th>\n",
       "      <td>1</td>\n",
       "      <td>43.5</td>\n",
       "      <td>71.6</td>\n",
       "      <td>23.4</td>\n",
       "      <td>6.64</td>\n",
       "      <td>0.865460</td>\n",
       "      <td>0.931256</td>\n",
       "      <td>13.16</td>\n",
       "      <td>9.72</td>\n",
       "      <td>233.0</td>\n",
       "      <td>...</td>\n",
       "      <td>3.945618</td>\n",
       "      <td>3.414186</td>\n",
       "      <td>2.861741</td>\n",
       "      <td>1.000000</td>\n",
       "      <td>1.000000</td>\n",
       "      <td>0.000000</td>\n",
       "      <td>0.666667</td>\n",
       "      <td>0.333333</td>\n",
       "      <td>3</td>\n",
       "      <td>2</td>\n",
       "    </tr>\n",
       "  </tbody>\n",
       "</table>\n",
       "<p>2470 rows × 237 columns</p>\n",
       "</div>"
      ],
      "text/plain": [
       "      category  agent_1_feat_Possession%  agent_1_feat_Pass%  \\\n",
       "0            1                      58.8                85.1   \n",
       "1            1                      44.8                71.1   \n",
       "2            0                      46.3                70.8   \n",
       "3            0                      50.2                77.5   \n",
       "4            1                      44.9                75.0   \n",
       "...        ...                       ...                 ...   \n",
       "2465         1                      41.6                76.0   \n",
       "2466         1                      42.9                76.1   \n",
       "2467         0                      41.0                72.2   \n",
       "2468         1                      51.4                79.3   \n",
       "2469         1                      43.5                71.6   \n",
       "\n",
       "      agent_1_feat_AerialsWon  agent_1_feat_Rating  agent_1_feat_XGrealiz  \\\n",
       "0                        15.8                 6.99               1.143700   \n",
       "1                        23.4                 6.84               0.954159   \n",
       "2                        21.7                 6.77               0.918434   \n",
       "3                        24.4                 6.87               1.037613   \n",
       "4                        17.2                 6.77               0.983691   \n",
       "...                       ...                  ...                    ...   \n",
       "2465                     17.1                 6.62               1.046406   \n",
       "2466                     18.3                 6.61               1.161802   \n",
       "2467                     19.1                 6.51               1.000858   \n",
       "2468                     14.1                 6.62               1.037986   \n",
       "2469                     23.4                 6.64               0.865460   \n",
       "\n",
       "      agent_1_feat_XGArealiz  agent_1_feat_PPDA  agent_1_feat_OPPDA  \\\n",
       "0                   0.928715               7.13               14.16   \n",
       "1                   0.975350               9.99                7.66   \n",
       "2                   1.118603               9.56                7.34   \n",
       "3                   0.956836               9.60                9.53   \n",
       "4                   0.948837              12.24                8.76   \n",
       "...                      ...                ...                 ...   \n",
       "2465                1.032989              18.00                8.27   \n",
       "2466                1.066236              16.14                7.60   \n",
       "2467                1.026472              15.99                7.99   \n",
       "2468                1.161401               9.73               10.47   \n",
       "2469                0.931256              13.16                9.72   \n",
       "\n",
       "      agent_1_feat_DC  ...  agent_2_feattotal_xg_1  \\\n",
       "0               267.0  ...                2.739439   \n",
       "1               191.0  ...                2.336756   \n",
       "2               179.0  ...                2.120322   \n",
       "3               195.0  ...                2.216415   \n",
       "4               161.0  ...                2.604025   \n",
       "...               ...  ...                     ...   \n",
       "2465            138.0  ...                3.684860   \n",
       "2466            201.0  ...                1.568175   \n",
       "2467            164.0  ...                3.871643   \n",
       "2468            222.0  ...                4.904164   \n",
       "2469            233.0  ...                3.945618   \n",
       "\n",
       "      agent_2_feattotal_xg_mean_3  agent_2_feattotal_xg_mean  \\\n",
       "0                        2.739439                        NaN   \n",
       "1                        2.336756                        NaN   \n",
       "2                        2.120322                        NaN   \n",
       "3                        2.216415                        NaN   \n",
       "4                        2.604025                        NaN   \n",
       "...                           ...                        ...   \n",
       "2465                     4.024907                   3.872622   \n",
       "2466                     2.000313                   2.572016   \n",
       "2467                     2.496854                   2.555157   \n",
       "2468                     2.977092                   2.495116   \n",
       "2469                     3.414186                   2.861741   \n",
       "\n",
       "      agent_2_featboth_scored_3  agent_2_featboth_scored_2  \\\n",
       "0                      0.473684                   0.473684   \n",
       "1                      0.578947                   0.578947   \n",
       "2                      0.368421                   0.368421   \n",
       "3                      0.210526                   0.210526   \n",
       "4                      0.421053                   0.421053   \n",
       "...                         ...                        ...   \n",
       "2465                   1.000000                   0.000000   \n",
       "2466                   0.000000                   0.000000   \n",
       "2467                   0.000000                   0.000000   \n",
       "2468                   1.000000                   0.000000   \n",
       "2469                   1.000000                   1.000000   \n",
       "\n",
       "      agent_2_featboth_scored_1  agent_2_featboth_scored_mean_3  \\\n",
       "0                      0.473684                        0.473684   \n",
       "1                      0.578947                        0.578947   \n",
       "2                      0.368421                        0.368421   \n",
       "3                      0.210526                        0.210526   \n",
       "4                      0.421053                        0.421053   \n",
       "...                         ...                             ...   \n",
       "2465                   0.000000                        0.333333   \n",
       "2466                   0.000000                        0.000000   \n",
       "2467                   1.000000                        0.333333   \n",
       "2468                   0.000000                        0.333333   \n",
       "2469                   0.000000                        0.666667   \n",
       "\n",
       "      agent_2_featboth_scored_mean  expected_target1  expected_target2  \n",
       "0                              NaN                 1                 2  \n",
       "1                              NaN                 2                 2  \n",
       "2                              NaN                 0                 1  \n",
       "3                              NaN                 0                 1  \n",
       "4                              NaN                 2                 2  \n",
       "...                            ...               ...               ...  \n",
       "2465                      0.444444                 1                 2  \n",
       "2466                      0.444444                 2                 3  \n",
       "2467                      0.500000                 0                 5  \n",
       "2468                      0.222222                 1                 3  \n",
       "2469                      0.333333                 3                 2  \n",
       "\n",
       "[2470 rows x 237 columns]"
      ]
     },
     "execution_count": 61,
     "metadata": {},
     "output_type": "execute_result"
    }
   ],
   "source": [
    "train_df"
   ]
  },
  {
   "cell_type": "markdown",
   "metadata": {
    "id": "_VaUeSE29_6w"
   },
   "source": [
    "## Delete outliers"
   ]
  },
  {
   "cell_type": "code",
   "execution_count": 62,
   "metadata": {
    "colab": {
     "base_uri": "https://localhost:8080/",
     "height": 299
    },
    "id": "CkheOAfn_zOK",
    "outputId": "000d0384-64b4-4d66-f341-0a872abe165e"
   },
   "outputs": [
    {
     "data": {
      "text/html": [
       "<div>\n",
       "<style scoped>\n",
       "    .dataframe tbody tr th:only-of-type {\n",
       "        vertical-align: middle;\n",
       "    }\n",
       "\n",
       "    .dataframe tbody tr th {\n",
       "        vertical-align: top;\n",
       "    }\n",
       "\n",
       "    .dataframe thead th {\n",
       "        text-align: right;\n",
       "    }\n",
       "</style>\n",
       "<table border=\"1\" class=\"dataframe\">\n",
       "  <thead>\n",
       "    <tr style=\"text-align: right;\">\n",
       "      <th></th>\n",
       "      <th>train_expected_target2</th>\n",
       "      <th>train_expected_target1</th>\n",
       "      <th>category</th>\n",
       "      <th>agent_1_feat_Possession%</th>\n",
       "      <th>agent_1_feat_Pass%</th>\n",
       "      <th>agent_1_feat_AerialsWon</th>\n",
       "      <th>agent_1_feat_Rating</th>\n",
       "      <th>agent_1_feat_XGrealiz</th>\n",
       "      <th>agent_1_feat_XGArealiz</th>\n",
       "      <th>agent_1_feat_PPDA</th>\n",
       "      <th>...</th>\n",
       "      <th>agent_2_feattotal_xg_1</th>\n",
       "      <th>agent_2_feattotal_xg_mean_3</th>\n",
       "      <th>agent_2_feattotal_xg_mean</th>\n",
       "      <th>agent_2_featboth_scored_3</th>\n",
       "      <th>agent_2_featboth_scored_2</th>\n",
       "      <th>agent_2_featboth_scored_1</th>\n",
       "      <th>agent_2_featboth_scored_mean_3</th>\n",
       "      <th>agent_2_featboth_scored_mean</th>\n",
       "      <th>expected_target1</th>\n",
       "      <th>expected_target2</th>\n",
       "    </tr>\n",
       "  </thead>\n",
       "  <tbody>\n",
       "    <tr>\n",
       "      <th>0</th>\n",
       "      <td>0.278076</td>\n",
       "      <td>1.166350</td>\n",
       "      <td>1</td>\n",
       "      <td>58.8</td>\n",
       "      <td>85.1</td>\n",
       "      <td>15.8</td>\n",
       "      <td>6.99</td>\n",
       "      <td>1.143700</td>\n",
       "      <td>0.928715</td>\n",
       "      <td>7.13</td>\n",
       "      <td>...</td>\n",
       "      <td>2.739439</td>\n",
       "      <td>2.739439</td>\n",
       "      <td>NaN</td>\n",
       "      <td>0.473684</td>\n",
       "      <td>0.473684</td>\n",
       "      <td>0.473684</td>\n",
       "      <td>0.473684</td>\n",
       "      <td>NaN</td>\n",
       "      <td>1</td>\n",
       "      <td>2</td>\n",
       "    </tr>\n",
       "    <tr>\n",
       "      <th>1</th>\n",
       "      <td>0.613273</td>\n",
       "      <td>1.278300</td>\n",
       "      <td>1</td>\n",
       "      <td>44.8</td>\n",
       "      <td>71.1</td>\n",
       "      <td>23.4</td>\n",
       "      <td>6.84</td>\n",
       "      <td>0.954159</td>\n",
       "      <td>0.975350</td>\n",
       "      <td>9.99</td>\n",
       "      <td>...</td>\n",
       "      <td>2.336756</td>\n",
       "      <td>2.336756</td>\n",
       "      <td>NaN</td>\n",
       "      <td>0.578947</td>\n",
       "      <td>0.578947</td>\n",
       "      <td>0.578947</td>\n",
       "      <td>0.578947</td>\n",
       "      <td>NaN</td>\n",
       "      <td>2</td>\n",
       "      <td>2</td>\n",
       "    </tr>\n",
       "    <tr>\n",
       "      <th>2</th>\n",
       "      <td>1.117570</td>\n",
       "      <td>1.900670</td>\n",
       "      <td>0</td>\n",
       "      <td>46.3</td>\n",
       "      <td>70.8</td>\n",
       "      <td>21.7</td>\n",
       "      <td>6.77</td>\n",
       "      <td>0.918434</td>\n",
       "      <td>1.118603</td>\n",
       "      <td>9.56</td>\n",
       "      <td>...</td>\n",
       "      <td>2.120322</td>\n",
       "      <td>2.120322</td>\n",
       "      <td>NaN</td>\n",
       "      <td>0.368421</td>\n",
       "      <td>0.368421</td>\n",
       "      <td>0.368421</td>\n",
       "      <td>0.368421</td>\n",
       "      <td>NaN</td>\n",
       "      <td>0</td>\n",
       "      <td>1</td>\n",
       "    </tr>\n",
       "    <tr>\n",
       "      <th>3</th>\n",
       "      <td>0.909774</td>\n",
       "      <td>0.423368</td>\n",
       "      <td>0</td>\n",
       "      <td>50.2</td>\n",
       "      <td>77.5</td>\n",
       "      <td>24.4</td>\n",
       "      <td>6.87</td>\n",
       "      <td>1.037613</td>\n",
       "      <td>0.956836</td>\n",
       "      <td>9.60</td>\n",
       "      <td>...</td>\n",
       "      <td>2.216415</td>\n",
       "      <td>2.216415</td>\n",
       "      <td>NaN</td>\n",
       "      <td>0.210526</td>\n",
       "      <td>0.210526</td>\n",
       "      <td>0.210526</td>\n",
       "      <td>0.210526</td>\n",
       "      <td>NaN</td>\n",
       "      <td>0</td>\n",
       "      <td>1</td>\n",
       "    </tr>\n",
       "    <tr>\n",
       "      <th>4</th>\n",
       "      <td>0.991901</td>\n",
       "      <td>1.683430</td>\n",
       "      <td>1</td>\n",
       "      <td>44.9</td>\n",
       "      <td>75.0</td>\n",
       "      <td>17.2</td>\n",
       "      <td>6.77</td>\n",
       "      <td>0.983691</td>\n",
       "      <td>0.948837</td>\n",
       "      <td>12.24</td>\n",
       "      <td>...</td>\n",
       "      <td>2.604025</td>\n",
       "      <td>2.604025</td>\n",
       "      <td>NaN</td>\n",
       "      <td>0.421053</td>\n",
       "      <td>0.421053</td>\n",
       "      <td>0.421053</td>\n",
       "      <td>0.421053</td>\n",
       "      <td>NaN</td>\n",
       "      <td>2</td>\n",
       "      <td>2</td>\n",
       "    </tr>\n",
       "  </tbody>\n",
       "</table>\n",
       "<p>5 rows × 239 columns</p>\n",
       "</div>"
      ],
      "text/plain": [
       "   train_expected_target2  train_expected_target1  category  \\\n",
       "0                0.278076                1.166350         1   \n",
       "1                0.613273                1.278300         1   \n",
       "2                1.117570                1.900670         0   \n",
       "3                0.909774                0.423368         0   \n",
       "4                0.991901                1.683430         1   \n",
       "\n",
       "   agent_1_feat_Possession%  agent_1_feat_Pass%  agent_1_feat_AerialsWon  \\\n",
       "0                      58.8                85.1                     15.8   \n",
       "1                      44.8                71.1                     23.4   \n",
       "2                      46.3                70.8                     21.7   \n",
       "3                      50.2                77.5                     24.4   \n",
       "4                      44.9                75.0                     17.2   \n",
       "\n",
       "   agent_1_feat_Rating  agent_1_feat_XGrealiz  agent_1_feat_XGArealiz  \\\n",
       "0                 6.99               1.143700                0.928715   \n",
       "1                 6.84               0.954159                0.975350   \n",
       "2                 6.77               0.918434                1.118603   \n",
       "3                 6.87               1.037613                0.956836   \n",
       "4                 6.77               0.983691                0.948837   \n",
       "\n",
       "   agent_1_feat_PPDA  ...  agent_2_feattotal_xg_1  \\\n",
       "0               7.13  ...                2.739439   \n",
       "1               9.99  ...                2.336756   \n",
       "2               9.56  ...                2.120322   \n",
       "3               9.60  ...                2.216415   \n",
       "4              12.24  ...                2.604025   \n",
       "\n",
       "   agent_2_feattotal_xg_mean_3  agent_2_feattotal_xg_mean  \\\n",
       "0                     2.739439                        NaN   \n",
       "1                     2.336756                        NaN   \n",
       "2                     2.120322                        NaN   \n",
       "3                     2.216415                        NaN   \n",
       "4                     2.604025                        NaN   \n",
       "\n",
       "   agent_2_featboth_scored_3  agent_2_featboth_scored_2  \\\n",
       "0                   0.473684                   0.473684   \n",
       "1                   0.578947                   0.578947   \n",
       "2                   0.368421                   0.368421   \n",
       "3                   0.210526                   0.210526   \n",
       "4                   0.421053                   0.421053   \n",
       "\n",
       "   agent_2_featboth_scored_1  agent_2_featboth_scored_mean_3  \\\n",
       "0                   0.473684                        0.473684   \n",
       "1                   0.578947                        0.578947   \n",
       "2                   0.368421                        0.368421   \n",
       "3                   0.210526                        0.210526   \n",
       "4                   0.421053                        0.421053   \n",
       "\n",
       "   agent_2_featboth_scored_mean  expected_target1  expected_target2  \n",
       "0                           NaN                 1                 2  \n",
       "1                           NaN                 2                 2  \n",
       "2                           NaN                 0                 1  \n",
       "3                           NaN                 0                 1  \n",
       "4                           NaN                 2                 2  \n",
       "\n",
       "[5 rows x 239 columns]"
      ]
     },
     "execution_count": 62,
     "metadata": {},
     "output_type": "execute_result"
    }
   ],
   "source": [
    "train_expected_target1 = train_expected_target1.rename(columns={\"0\": \"train_expected_target1\"})\n",
    "train_expected_target2 = train_expected_target2.rename(columns={\"0\": \"train_expected_target2\"})\n",
    "train_df = pd.concat([train_expected_target1, train_df], axis = 1)\n",
    "train_df = pd.concat([train_expected_target2, train_df], axis = 1)\n",
    "train_df.head()"
   ]
  },
  {
   "cell_type": "code",
   "execution_count": 63,
   "metadata": {
    "colab": {
     "base_uri": "https://localhost:8080/"
    },
    "id": "NJHCElVu-906",
    "outputId": "df35fdc8-6e8d-4af7-9ecf-e96d0c76a9c9"
   },
   "outputs": [
    {
     "name": "stdout",
     "output_type": "stream",
     "text": [
      "Rows before deleting:  2470\n",
      "Rows after deleting:  2295\n"
     ]
    }
   ],
   "source": [
    "print('Rows before deleting: ', train_df.shape[0])\n",
    "train_df = train_df.drop(train_df[(train_df.train_expected_target2 > 1) &\n",
    "                                  (train_df.train_expected_target1 > 1) &\n",
    "                                  (train_df.category == 0)].index)\n",
    "train_df.drop(['train_expected_target1', 'train_expected_target2'], axis = 1, inplace = True)\n",
    "print('Rows after deleting: ', train_df.shape[0])"
   ]
  },
  {
   "cell_type": "markdown",
   "metadata": {
    "id": "0ruuBsKl75SR"
   },
   "source": [
    "## Work with missing variables"
   ]
  },
  {
   "cell_type": "code",
   "execution_count": 64,
   "metadata": {
    "colab": {
     "base_uri": "https://localhost:8080/"
    },
    "id": "kc2PbEGDRIjw",
    "outputId": "3042e755-cbf8-4661-ac14-71b4a75e601c"
   },
   "outputs": [
    {
     "name": "stdout",
     "output_type": "stream",
     "text": [
      "Rows before deleting:  2295\n",
      "Rows after deleting:  2163\n"
     ]
    }
   ],
   "source": [
    "print('Rows before deleting: ', train_df.shape[0])\n",
    "train_df = train_df.dropna()  \n",
    "print('Rows after deleting: ', train_df.shape[0])"
   ]
  },
  {
   "cell_type": "markdown",
   "metadata": {},
   "source": [
    "# Corr"
   ]
  },
  {
   "cell_type": "code",
   "execution_count": 65,
   "metadata": {},
   "outputs": [
    {
     "data": {
      "text/html": [
       "<div>\n",
       "<style scoped>\n",
       "    .dataframe tbody tr th:only-of-type {\n",
       "        vertical-align: middle;\n",
       "    }\n",
       "\n",
       "    .dataframe tbody tr th {\n",
       "        vertical-align: top;\n",
       "    }\n",
       "\n",
       "    .dataframe thead th {\n",
       "        text-align: right;\n",
       "    }\n",
       "</style>\n",
       "<table border=\"1\" class=\"dataframe\">\n",
       "  <thead>\n",
       "    <tr style=\"text-align: right;\">\n",
       "      <th></th>\n",
       "      <th>category</th>\n",
       "      <th>agent_1_feat_Possession%</th>\n",
       "      <th>agent_1_feat_Pass%</th>\n",
       "      <th>agent_1_feat_AerialsWon</th>\n",
       "      <th>agent_1_feat_Rating</th>\n",
       "      <th>agent_1_feat_XGrealiz</th>\n",
       "      <th>agent_1_feat_XGArealiz</th>\n",
       "      <th>agent_1_feat_PPDA</th>\n",
       "      <th>agent_1_feat_OPPDA</th>\n",
       "      <th>agent_1_feat_DC</th>\n",
       "      <th>...</th>\n",
       "      <th>agent_2_feattotal_xg_1</th>\n",
       "      <th>agent_2_feattotal_xg_mean_3</th>\n",
       "      <th>agent_2_feattotal_xg_mean</th>\n",
       "      <th>agent_2_featboth_scored_3</th>\n",
       "      <th>agent_2_featboth_scored_2</th>\n",
       "      <th>agent_2_featboth_scored_1</th>\n",
       "      <th>agent_2_featboth_scored_mean_3</th>\n",
       "      <th>agent_2_featboth_scored_mean</th>\n",
       "      <th>expected_target1</th>\n",
       "      <th>expected_target2</th>\n",
       "    </tr>\n",
       "  </thead>\n",
       "  <tbody>\n",
       "    <tr>\n",
       "      <th>20</th>\n",
       "      <td>0</td>\n",
       "      <td>44.0</td>\n",
       "      <td>70.3</td>\n",
       "      <td>25.1</td>\n",
       "      <td>6.79</td>\n",
       "      <td>0.711201</td>\n",
       "      <td>0.915529</td>\n",
       "      <td>10.74</td>\n",
       "      <td>9.43</td>\n",
       "      <td>218.0</td>\n",
       "      <td>...</td>\n",
       "      <td>1.608046</td>\n",
       "      <td>2.112304</td>\n",
       "      <td>1.608046</td>\n",
       "      <td>0.578947</td>\n",
       "      <td>0.578947</td>\n",
       "      <td>1.0</td>\n",
       "      <td>0.719298</td>\n",
       "      <td>1.000000</td>\n",
       "      <td>0</td>\n",
       "      <td>0</td>\n",
       "    </tr>\n",
       "    <tr>\n",
       "      <th>21</th>\n",
       "      <td>0</td>\n",
       "      <td>57.0</td>\n",
       "      <td>84.6</td>\n",
       "      <td>15.9</td>\n",
       "      <td>7.07</td>\n",
       "      <td>1.094698</td>\n",
       "      <td>0.938272</td>\n",
       "      <td>7.57</td>\n",
       "      <td>13.92</td>\n",
       "      <td>575.0</td>\n",
       "      <td>...</td>\n",
       "      <td>2.479335</td>\n",
       "      <td>2.214160</td>\n",
       "      <td>2.479335</td>\n",
       "      <td>0.526316</td>\n",
       "      <td>0.526316</td>\n",
       "      <td>1.0</td>\n",
       "      <td>0.684211</td>\n",
       "      <td>1.000000</td>\n",
       "      <td>0</td>\n",
       "      <td>1</td>\n",
       "    </tr>\n",
       "    <tr>\n",
       "      <th>22</th>\n",
       "      <td>1</td>\n",
       "      <td>48.1</td>\n",
       "      <td>76.9</td>\n",
       "      <td>17.7</td>\n",
       "      <td>6.74</td>\n",
       "      <td>0.994530</td>\n",
       "      <td>1.235052</td>\n",
       "      <td>9.77</td>\n",
       "      <td>8.24</td>\n",
       "      <td>175.0</td>\n",
       "      <td>...</td>\n",
       "      <td>1.712261</td>\n",
       "      <td>2.183093</td>\n",
       "      <td>1.712261</td>\n",
       "      <td>0.526316</td>\n",
       "      <td>0.526316</td>\n",
       "      <td>1.0</td>\n",
       "      <td>0.684211</td>\n",
       "      <td>1.000000</td>\n",
       "      <td>3</td>\n",
       "      <td>3</td>\n",
       "    </tr>\n",
       "    <tr>\n",
       "      <th>23</th>\n",
       "      <td>0</td>\n",
       "      <td>46.3</td>\n",
       "      <td>70.8</td>\n",
       "      <td>21.7</td>\n",
       "      <td>6.77</td>\n",
       "      <td>0.918434</td>\n",
       "      <td>1.118603</td>\n",
       "      <td>9.56</td>\n",
       "      <td>7.34</td>\n",
       "      <td>179.0</td>\n",
       "      <td>...</td>\n",
       "      <td>2.675331</td>\n",
       "      <td>2.627794</td>\n",
       "      <td>2.675331</td>\n",
       "      <td>0.421053</td>\n",
       "      <td>0.421053</td>\n",
       "      <td>1.0</td>\n",
       "      <td>0.614035</td>\n",
       "      <td>1.000000</td>\n",
       "      <td>1</td>\n",
       "      <td>0</td>\n",
       "    </tr>\n",
       "    <tr>\n",
       "      <th>24</th>\n",
       "      <td>0</td>\n",
       "      <td>50.7</td>\n",
       "      <td>82.1</td>\n",
       "      <td>14.4</td>\n",
       "      <td>6.86</td>\n",
       "      <td>1.124694</td>\n",
       "      <td>0.875939</td>\n",
       "      <td>11.79</td>\n",
       "      <td>10.66</td>\n",
       "      <td>156.0</td>\n",
       "      <td>...</td>\n",
       "      <td>1.331644</td>\n",
       "      <td>2.260683</td>\n",
       "      <td>1.331644</td>\n",
       "      <td>0.368421</td>\n",
       "      <td>0.368421</td>\n",
       "      <td>0.0</td>\n",
       "      <td>0.245614</td>\n",
       "      <td>0.000000</td>\n",
       "      <td>3</td>\n",
       "      <td>0</td>\n",
       "    </tr>\n",
       "    <tr>\n",
       "      <th>...</th>\n",
       "      <td>...</td>\n",
       "      <td>...</td>\n",
       "      <td>...</td>\n",
       "      <td>...</td>\n",
       "      <td>...</td>\n",
       "      <td>...</td>\n",
       "      <td>...</td>\n",
       "      <td>...</td>\n",
       "      <td>...</td>\n",
       "      <td>...</td>\n",
       "      <td>...</td>\n",
       "      <td>...</td>\n",
       "      <td>...</td>\n",
       "      <td>...</td>\n",
       "      <td>...</td>\n",
       "      <td>...</td>\n",
       "      <td>...</td>\n",
       "      <td>...</td>\n",
       "      <td>...</td>\n",
       "      <td>...</td>\n",
       "      <td>...</td>\n",
       "    </tr>\n",
       "    <tr>\n",
       "      <th>2465</th>\n",
       "      <td>1</td>\n",
       "      <td>41.6</td>\n",
       "      <td>76.0</td>\n",
       "      <td>17.1</td>\n",
       "      <td>6.62</td>\n",
       "      <td>1.046406</td>\n",
       "      <td>1.032989</td>\n",
       "      <td>18.00</td>\n",
       "      <td>8.27</td>\n",
       "      <td>138.0</td>\n",
       "      <td>...</td>\n",
       "      <td>3.684860</td>\n",
       "      <td>4.024907</td>\n",
       "      <td>3.872622</td>\n",
       "      <td>1.000000</td>\n",
       "      <td>0.000000</td>\n",
       "      <td>0.0</td>\n",
       "      <td>0.333333</td>\n",
       "      <td>0.444444</td>\n",
       "      <td>1</td>\n",
       "      <td>2</td>\n",
       "    </tr>\n",
       "    <tr>\n",
       "      <th>2466</th>\n",
       "      <td>1</td>\n",
       "      <td>42.9</td>\n",
       "      <td>76.1</td>\n",
       "      <td>18.3</td>\n",
       "      <td>6.61</td>\n",
       "      <td>1.161802</td>\n",
       "      <td>1.066236</td>\n",
       "      <td>16.14</td>\n",
       "      <td>7.60</td>\n",
       "      <td>201.0</td>\n",
       "      <td>...</td>\n",
       "      <td>1.568175</td>\n",
       "      <td>2.000313</td>\n",
       "      <td>2.572016</td>\n",
       "      <td>0.000000</td>\n",
       "      <td>0.000000</td>\n",
       "      <td>0.0</td>\n",
       "      <td>0.000000</td>\n",
       "      <td>0.444444</td>\n",
       "      <td>2</td>\n",
       "      <td>3</td>\n",
       "    </tr>\n",
       "    <tr>\n",
       "      <th>2467</th>\n",
       "      <td>0</td>\n",
       "      <td>41.0</td>\n",
       "      <td>72.2</td>\n",
       "      <td>19.1</td>\n",
       "      <td>6.51</td>\n",
       "      <td>1.000858</td>\n",
       "      <td>1.026472</td>\n",
       "      <td>15.99</td>\n",
       "      <td>7.99</td>\n",
       "      <td>164.0</td>\n",
       "      <td>...</td>\n",
       "      <td>3.871643</td>\n",
       "      <td>2.496854</td>\n",
       "      <td>2.555157</td>\n",
       "      <td>0.000000</td>\n",
       "      <td>0.000000</td>\n",
       "      <td>1.0</td>\n",
       "      <td>0.333333</td>\n",
       "      <td>0.500000</td>\n",
       "      <td>0</td>\n",
       "      <td>5</td>\n",
       "    </tr>\n",
       "    <tr>\n",
       "      <th>2468</th>\n",
       "      <td>1</td>\n",
       "      <td>51.4</td>\n",
       "      <td>79.3</td>\n",
       "      <td>14.1</td>\n",
       "      <td>6.62</td>\n",
       "      <td>1.037986</td>\n",
       "      <td>1.161401</td>\n",
       "      <td>9.73</td>\n",
       "      <td>10.47</td>\n",
       "      <td>222.0</td>\n",
       "      <td>...</td>\n",
       "      <td>4.904164</td>\n",
       "      <td>2.977092</td>\n",
       "      <td>2.495116</td>\n",
       "      <td>1.000000</td>\n",
       "      <td>0.000000</td>\n",
       "      <td>0.0</td>\n",
       "      <td>0.333333</td>\n",
       "      <td>0.222222</td>\n",
       "      <td>1</td>\n",
       "      <td>3</td>\n",
       "    </tr>\n",
       "    <tr>\n",
       "      <th>2469</th>\n",
       "      <td>1</td>\n",
       "      <td>43.5</td>\n",
       "      <td>71.6</td>\n",
       "      <td>23.4</td>\n",
       "      <td>6.64</td>\n",
       "      <td>0.865460</td>\n",
       "      <td>0.931256</td>\n",
       "      <td>13.16</td>\n",
       "      <td>9.72</td>\n",
       "      <td>233.0</td>\n",
       "      <td>...</td>\n",
       "      <td>3.945618</td>\n",
       "      <td>3.414186</td>\n",
       "      <td>2.861741</td>\n",
       "      <td>1.000000</td>\n",
       "      <td>1.000000</td>\n",
       "      <td>0.0</td>\n",
       "      <td>0.666667</td>\n",
       "      <td>0.333333</td>\n",
       "      <td>3</td>\n",
       "      <td>2</td>\n",
       "    </tr>\n",
       "  </tbody>\n",
       "</table>\n",
       "<p>2163 rows × 237 columns</p>\n",
       "</div>"
      ],
      "text/plain": [
       "      category  agent_1_feat_Possession%  agent_1_feat_Pass%  \\\n",
       "20           0                      44.0                70.3   \n",
       "21           0                      57.0                84.6   \n",
       "22           1                      48.1                76.9   \n",
       "23           0                      46.3                70.8   \n",
       "24           0                      50.7                82.1   \n",
       "...        ...                       ...                 ...   \n",
       "2465         1                      41.6                76.0   \n",
       "2466         1                      42.9                76.1   \n",
       "2467         0                      41.0                72.2   \n",
       "2468         1                      51.4                79.3   \n",
       "2469         1                      43.5                71.6   \n",
       "\n",
       "      agent_1_feat_AerialsWon  agent_1_feat_Rating  agent_1_feat_XGrealiz  \\\n",
       "20                       25.1                 6.79               0.711201   \n",
       "21                       15.9                 7.07               1.094698   \n",
       "22                       17.7                 6.74               0.994530   \n",
       "23                       21.7                 6.77               0.918434   \n",
       "24                       14.4                 6.86               1.124694   \n",
       "...                       ...                  ...                    ...   \n",
       "2465                     17.1                 6.62               1.046406   \n",
       "2466                     18.3                 6.61               1.161802   \n",
       "2467                     19.1                 6.51               1.000858   \n",
       "2468                     14.1                 6.62               1.037986   \n",
       "2469                     23.4                 6.64               0.865460   \n",
       "\n",
       "      agent_1_feat_XGArealiz  agent_1_feat_PPDA  agent_1_feat_OPPDA  \\\n",
       "20                  0.915529              10.74                9.43   \n",
       "21                  0.938272               7.57               13.92   \n",
       "22                  1.235052               9.77                8.24   \n",
       "23                  1.118603               9.56                7.34   \n",
       "24                  0.875939              11.79               10.66   \n",
       "...                      ...                ...                 ...   \n",
       "2465                1.032989              18.00                8.27   \n",
       "2466                1.066236              16.14                7.60   \n",
       "2467                1.026472              15.99                7.99   \n",
       "2468                1.161401               9.73               10.47   \n",
       "2469                0.931256              13.16                9.72   \n",
       "\n",
       "      agent_1_feat_DC  ...  agent_2_feattotal_xg_1  \\\n",
       "20              218.0  ...                1.608046   \n",
       "21              575.0  ...                2.479335   \n",
       "22              175.0  ...                1.712261   \n",
       "23              179.0  ...                2.675331   \n",
       "24              156.0  ...                1.331644   \n",
       "...               ...  ...                     ...   \n",
       "2465            138.0  ...                3.684860   \n",
       "2466            201.0  ...                1.568175   \n",
       "2467            164.0  ...                3.871643   \n",
       "2468            222.0  ...                4.904164   \n",
       "2469            233.0  ...                3.945618   \n",
       "\n",
       "      agent_2_feattotal_xg_mean_3  agent_2_feattotal_xg_mean  \\\n",
       "20                       2.112304                   1.608046   \n",
       "21                       2.214160                   2.479335   \n",
       "22                       2.183093                   1.712261   \n",
       "23                       2.627794                   2.675331   \n",
       "24                       2.260683                   1.331644   \n",
       "...                           ...                        ...   \n",
       "2465                     4.024907                   3.872622   \n",
       "2466                     2.000313                   2.572016   \n",
       "2467                     2.496854                   2.555157   \n",
       "2468                     2.977092                   2.495116   \n",
       "2469                     3.414186                   2.861741   \n",
       "\n",
       "      agent_2_featboth_scored_3  agent_2_featboth_scored_2  \\\n",
       "20                     0.578947                   0.578947   \n",
       "21                     0.526316                   0.526316   \n",
       "22                     0.526316                   0.526316   \n",
       "23                     0.421053                   0.421053   \n",
       "24                     0.368421                   0.368421   \n",
       "...                         ...                        ...   \n",
       "2465                   1.000000                   0.000000   \n",
       "2466                   0.000000                   0.000000   \n",
       "2467                   0.000000                   0.000000   \n",
       "2468                   1.000000                   0.000000   \n",
       "2469                   1.000000                   1.000000   \n",
       "\n",
       "      agent_2_featboth_scored_1  agent_2_featboth_scored_mean_3  \\\n",
       "20                          1.0                        0.719298   \n",
       "21                          1.0                        0.684211   \n",
       "22                          1.0                        0.684211   \n",
       "23                          1.0                        0.614035   \n",
       "24                          0.0                        0.245614   \n",
       "...                         ...                             ...   \n",
       "2465                        0.0                        0.333333   \n",
       "2466                        0.0                        0.000000   \n",
       "2467                        1.0                        0.333333   \n",
       "2468                        0.0                        0.333333   \n",
       "2469                        0.0                        0.666667   \n",
       "\n",
       "      agent_2_featboth_scored_mean  expected_target1  expected_target2  \n",
       "20                        1.000000                 0                 0  \n",
       "21                        1.000000                 0                 1  \n",
       "22                        1.000000                 3                 3  \n",
       "23                        1.000000                 1                 0  \n",
       "24                        0.000000                 3                 0  \n",
       "...                            ...               ...               ...  \n",
       "2465                      0.444444                 1                 2  \n",
       "2466                      0.444444                 2                 3  \n",
       "2467                      0.500000                 0                 5  \n",
       "2468                      0.222222                 1                 3  \n",
       "2469                      0.333333                 3                 2  \n",
       "\n",
       "[2163 rows x 237 columns]"
      ]
     },
     "execution_count": 65,
     "metadata": {},
     "output_type": "execute_result"
    }
   ],
   "source": [
    "train_df"
   ]
  },
  {
   "cell_type": "code",
   "execution_count": 66,
   "metadata": {},
   "outputs": [
    {
     "name": "stdout",
     "output_type": "stream",
     "text": [
      "expected_target1          1.000000\n",
      "agent_1_feat_ScoredAv     0.385431\n",
      "agent_1_feat_XgAv         0.360820\n",
      "agent_1_feat_DC           0.341588\n",
      "agent_1_feat_pl_median    0.328869\n",
      "                            ...   \n",
      "agent_1_feat_PPDA        -0.213783\n",
      "agent_2_feat_Rating      -0.215384\n",
      "agent_1_feat_MissedAv    -0.260551\n",
      "agent_1_feat_XgaAv       -0.267009\n",
      "agent_1_feat_ODC         -0.290223\n",
      "Name: expected_target1, Length: 237, dtype: float64\n"
     ]
    }
   ],
   "source": [
    "corr_matrix1 = train_df.corr()\n",
    "print(corr_matrix1[\"expected_target1\"].sort_values(ascending=False))"
   ]
  },
  {
   "cell_type": "code",
   "execution_count": 67,
   "metadata": {},
   "outputs": [
    {
     "name": "stdout",
     "output_type": "stream",
     "text": [
      "expected_target2         1.000000\n",
      "category                 0.471964\n",
      "agent_2_feat_ScoredAv    0.335948\n",
      "agent_2_feat_XgAv        0.324758\n",
      "agent_2_feat_pl_mean     0.294398\n",
      "                           ...   \n",
      "agent_2_feat_MissedAv   -0.225085\n",
      "agent_1_feat_pl_mean    -0.225340\n",
      "agent_2_feat_XgaAv      -0.241378\n",
      "agent_1_feat_Rating     -0.250496\n",
      "agent_2_feat_ODC        -0.263211\n",
      "Name: expected_target2, Length: 237, dtype: float64\n"
     ]
    }
   ],
   "source": [
    "corr_matrix2 = train_df.corr()\n",
    "print(corr_matrix2[\"expected_target2\"].sort_values(ascending=False))"
   ]
  },
  {
   "cell_type": "markdown",
   "metadata": {
    "id": "r6FEvgOH7tUX"
   },
   "source": [
    "## Split dataset on train and test"
   ]
  },
  {
   "cell_type": "code",
   "execution_count": 68,
   "metadata": {
    "id": "A3QmeYdOEhwI"
   },
   "outputs": [],
   "source": [
    "X = train_df.drop(['expected_target1','category','expected_target2'], axis=1)\n",
    "Y_category = train_df['category']\n",
    "Y_expected1 = train_df['expected_target1']\n",
    "Y_expected2 = train_df['expected_target2']\n",
    "X_train, X_test, y_train1, y_test1, y_train2, y_test2 = (X.iloc[0:int(len(X)*0.8)], \n",
    "                                    X.iloc[int(len(X)*0.8):len(X)], \n",
    "                                    Y_expected1.iloc[0:int(len(Y_expected1)*0.8)], \n",
    "                                    Y_expected1.iloc[int(len(Y_expected1)*0.8):len(Y_expected1)],\n",
    "                                    Y_expected2.iloc[0:int(len(Y_expected2)*0.8)], \n",
    "                                    Y_expected2.iloc[int(len(Y_expected2)*0.8):len(Y_expected2)])"
   ]
  },
  {
   "cell_type": "code",
   "execution_count": 69,
   "metadata": {},
   "outputs": [
    {
     "data": {
      "text/plain": [
       "((1730, 234), (433, 234), (1730,), (433,), (1730,), (433,))"
      ]
     },
     "execution_count": 69,
     "metadata": {},
     "output_type": "execute_result"
    }
   ],
   "source": [
    "X_train.shape, X_test.shape, y_train1.shape, y_test1.shape, y_train2.shape, y_test2.shape"
   ]
  },
  {
   "cell_type": "markdown",
   "metadata": {
    "id": "I3lVH0n2lQK9"
   },
   "source": [
    "## Scale data"
   ]
  },
  {
   "cell_type": "code",
   "execution_count": 73,
   "metadata": {
    "colab": {
     "base_uri": "https://localhost:8080/"
    },
    "id": "wwxG8mYMlPoG",
    "outputId": "4b90a530-9fb2-4f50-f459-e231bdbe6721"
   },
   "outputs": [],
   "source": [
    "scaler = StandardScaler()\n",
    "X_train = scaler.fit_transform(X_train)\n",
    "X_test = scaler.transform(X_test)\n",
    "test_df = scaler.transform(test_df)"
   ]
  },
  {
   "cell_type": "markdown",
   "metadata": {
    "id": "QCXvCiWHPn3F"
   },
   "source": [
    "# **Model**"
   ]
  },
  {
   "cell_type": "code",
   "execution_count": 74,
   "metadata": {},
   "outputs": [],
   "source": [
    "from sklearn.neighbors import KNeighborsClassifier\n",
    "from sklearn.metrics import classification_report\n",
    "from sklearn.metrics import confusion_matrix"
   ]
  },
  {
   "cell_type": "markdown",
   "metadata": {},
   "source": [
    "# Model for Agent1"
   ]
  },
  {
   "cell_type": "code",
   "execution_count": 95,
   "metadata": {},
   "outputs": [
    {
     "data": {
      "text/plain": [
       "KNeighborsClassifier()"
      ]
     },
     "execution_count": 95,
     "metadata": {},
     "output_type": "execute_result"
    }
   ],
   "source": [
    "model1 = KNeighborsClassifier(n_neighbors = 5)\n",
    "model1.fit(X_train, y_train1)"
   ]
  },
  {
   "cell_type": "code",
   "execution_count": 96,
   "metadata": {},
   "outputs": [],
   "source": [
    "predictions1 = model1.predict(X_test)"
   ]
  },
  {
   "cell_type": "code",
   "execution_count": 97,
   "metadata": {},
   "outputs": [
    {
     "name": "stdout",
     "output_type": "stream",
     "text": [
      "              precision    recall  f1-score   support\n",
      "\n",
      "           0       0.26      0.39      0.31       100\n",
      "           1       0.36      0.41      0.39       145\n",
      "           2       0.30      0.20      0.24       111\n",
      "           3       0.18      0.12      0.15        49\n",
      "           4       0.14      0.06      0.08        18\n",
      "           5       0.00      0.00      0.00         8\n",
      "           6       0.00      0.00      0.00         1\n",
      "           7       0.00      0.00      0.00         1\n",
      "\n",
      "    accuracy                           0.30       433\n",
      "   macro avg       0.16      0.15      0.15       433\n",
      "weighted avg       0.28      0.30      0.28       433\n",
      "\n"
     ]
    },
    {
     "name": "stderr",
     "output_type": "stream",
     "text": [
      "c:\\users\\egor\\appdata\\local\\programs\\python\\python39\\lib\\site-packages\\sklearn\\metrics\\_classification.py:1248: UndefinedMetricWarning: Precision and F-score are ill-defined and being set to 0.0 in labels with no predicted samples. Use `zero_division` parameter to control this behavior.\n",
      "  _warn_prf(average, modifier, msg_start, len(result))\n",
      "c:\\users\\egor\\appdata\\local\\programs\\python\\python39\\lib\\site-packages\\sklearn\\metrics\\_classification.py:1248: UndefinedMetricWarning: Precision and F-score are ill-defined and being set to 0.0 in labels with no predicted samples. Use `zero_division` parameter to control this behavior.\n",
      "  _warn_prf(average, modifier, msg_start, len(result))\n",
      "c:\\users\\egor\\appdata\\local\\programs\\python\\python39\\lib\\site-packages\\sklearn\\metrics\\_classification.py:1248: UndefinedMetricWarning: Precision and F-score are ill-defined and being set to 0.0 in labels with no predicted samples. Use `zero_division` parameter to control this behavior.\n",
      "  _warn_prf(average, modifier, msg_start, len(result))\n"
     ]
    }
   ],
   "source": [
    "print(classification_report(y_test1, predictions1))"
   ]
  },
  {
   "cell_type": "code",
   "execution_count": 78,
   "metadata": {},
   "outputs": [
    {
     "data": {
      "image/png": "[encoded data removed]",
      "text/plain": [
       "<Figure size 432x288 with 1 Axes>"
      ]
     },
     "metadata": {
      "needs_background": "light"
     },
     "output_type": "display_data"
    }
   ],
   "source": [
    "error_rates = []\n",
    "\n",
    "for i in np.arange(1, 101):\n",
    "    new_model = KNeighborsClassifier(n_neighbors = i)\n",
    "    new_model.fit(X_train, y_train1)\n",
    "    model1 = KNeighborsClassifier(n_neighbors = 5)\n",
    "    model1.fit(X_train, y_train1)\n",
    "    new_predictions = new_model.predict(X_test)\n",
    "    error_rates.append(np.mean(new_predictions != y_test1))\n",
    "\n",
    "plt.plot(error_rates);"
   ]
  },
  {
   "cell_type": "code",
   "execution_count": 79,
   "metadata": {},
   "outputs": [
    {
     "data": {
      "text/plain": [
       "KNeighborsClassifier(n_neighbors=61)"
      ]
     },
     "execution_count": 79,
     "metadata": {},
     "output_type": "execute_result"
    }
   ],
   "source": [
    "model1 = KNeighborsClassifier(n_neighbors = np.argmin(error_rates))\n",
    "model1.fit(X_train, y_train1)"
   ]
  },
  {
   "cell_type": "code",
   "execution_count": 80,
   "metadata": {},
   "outputs": [],
   "source": [
    "predictions1 = model1.predict(X_test)"
   ]
  },
  {
   "cell_type": "code",
   "execution_count": 81,
   "metadata": {},
   "outputs": [
    {
     "name": "stdout",
     "output_type": "stream",
     "text": [
      "              precision    recall  f1-score   support\n",
      "\n",
      "           0       0.39      0.14      0.21       100\n",
      "           1       0.39      0.85      0.53       145\n",
      "           2       0.49      0.32      0.39       111\n",
      "           3       0.43      0.06      0.11        49\n",
      "           4       0.00      0.00      0.00        18\n",
      "           5       0.00      0.00      0.00         8\n",
      "           6       0.00      0.00      0.00         1\n",
      "           7       0.00      0.00      0.00         1\n",
      "\n",
      "    accuracy                           0.41       433\n",
      "   macro avg       0.21      0.17      0.15       433\n",
      "weighted avg       0.39      0.41      0.34       433\n",
      "\n"
     ]
    },
    {
     "name": "stderr",
     "output_type": "stream",
     "text": [
      "c:\\users\\egor\\appdata\\local\\programs\\python\\python39\\lib\\site-packages\\sklearn\\metrics\\_classification.py:1248: UndefinedMetricWarning: Precision and F-score are ill-defined and being set to 0.0 in labels with no predicted samples. Use `zero_division` parameter to control this behavior.\n",
      "  _warn_prf(average, modifier, msg_start, len(result))\n",
      "c:\\users\\egor\\appdata\\local\\programs\\python\\python39\\lib\\site-packages\\sklearn\\metrics\\_classification.py:1248: UndefinedMetricWarning: Precision and F-score are ill-defined and being set to 0.0 in labels with no predicted samples. Use `zero_division` parameter to control this behavior.\n",
      "  _warn_prf(average, modifier, msg_start, len(result))\n",
      "c:\\users\\egor\\appdata\\local\\programs\\python\\python39\\lib\\site-packages\\sklearn\\metrics\\_classification.py:1248: UndefinedMetricWarning: Precision and F-score are ill-defined and being set to 0.0 in labels with no predicted samples. Use `zero_division` parameter to control this behavior.\n",
      "  _warn_prf(average, modifier, msg_start, len(result))\n"
     ]
    }
   ],
   "source": [
    "print(classification_report(y_test1, predictions1))"
   ]
  },
  {
   "cell_type": "markdown",
   "metadata": {},
   "source": [
    "# Model for agent2"
   ]
  },
  {
   "cell_type": "code",
   "execution_count": 82,
   "metadata": {},
   "outputs": [
    {
     "data": {
      "text/plain": [
       "KNeighborsClassifier()"
      ]
     },
     "execution_count": 82,
     "metadata": {},
     "output_type": "execute_result"
    }
   ],
   "source": [
    "model2 = KNeighborsClassifier(n_neighbors = 5)\n",
    "model2.fit(X_train, y_train2)"
   ]
  },
  {
   "cell_type": "code",
   "execution_count": 83,
   "metadata": {},
   "outputs": [],
   "source": [
    "predictions2 = model2.predict(X_test)"
   ]
  },
  {
   "cell_type": "code",
   "execution_count": 84,
   "metadata": {},
   "outputs": [
    {
     "name": "stdout",
     "output_type": "stream",
     "text": [
      "              precision    recall  f1-score   support\n",
      "\n",
      "           0       0.31      0.48      0.38       127\n",
      "           1       0.32      0.29      0.31       156\n",
      "           2       0.23      0.20      0.21        88\n",
      "           3       0.33      0.09      0.15        43\n",
      "           4       0.00      0.00      0.00        11\n",
      "           5       0.00      0.00      0.00         4\n",
      "           6       0.00      0.00      0.00         2\n",
      "           7       0.00      0.00      0.00         1\n",
      "           9       0.00      0.00      0.00         1\n",
      "\n",
      "    accuracy                           0.30       433\n",
      "   macro avg       0.13      0.12      0.12       433\n",
      "weighted avg       0.29      0.30      0.28       433\n",
      "\n"
     ]
    },
    {
     "name": "stderr",
     "output_type": "stream",
     "text": [
      "c:\\users\\egor\\appdata\\local\\programs\\python\\python39\\lib\\site-packages\\sklearn\\metrics\\_classification.py:1248: UndefinedMetricWarning: Precision and F-score are ill-defined and being set to 0.0 in labels with no predicted samples. Use `zero_division` parameter to control this behavior.\n",
      "  _warn_prf(average, modifier, msg_start, len(result))\n",
      "c:\\users\\egor\\appdata\\local\\programs\\python\\python39\\lib\\site-packages\\sklearn\\metrics\\_classification.py:1248: UndefinedMetricWarning: Precision and F-score are ill-defined and being set to 0.0 in labels with no predicted samples. Use `zero_division` parameter to control this behavior.\n",
      "  _warn_prf(average, modifier, msg_start, len(result))\n",
      "c:\\users\\egor\\appdata\\local\\programs\\python\\python39\\lib\\site-packages\\sklearn\\metrics\\_classification.py:1248: UndefinedMetricWarning: Precision and F-score are ill-defined and being set to 0.0 in labels with no predicted samples. Use `zero_division` parameter to control this behavior.\n",
      "  _warn_prf(average, modifier, msg_start, len(result))\n"
     ]
    }
   ],
   "source": [
    "print(classification_report(y_test2, predictions2))"
   ]
  },
  {
   "cell_type": "code",
   "execution_count": 85,
   "metadata": {},
   "outputs": [
    {
     "data": {
      "image/png": "[encoded data removed]",
      "text/plain": [
       "<Figure size 432x288 with 1 Axes>"
      ]
     },
     "metadata": {
      "needs_background": "light"
     },
     "output_type": "display_data"
    }
   ],
   "source": [
    "error_rates = []\n",
    "\n",
    "for i in np.arange(1, 101):\n",
    "    new_model = KNeighborsClassifier(n_neighbors = i)\n",
    "    new_model.fit(X_train, y_train2)\n",
    "    model2 = KNeighborsClassifier(n_neighbors = 5)\n",
    "    model2.fit(X_train, y_train2)\n",
    "    new_predictions = new_model.predict(X_test)\n",
    "    error_rates.append(np.mean(new_predictions != y_test2))\n",
    "\n",
    "plt.plot(error_rates);"
   ]
  },
  {
   "cell_type": "code",
   "execution_count": 86,
   "metadata": {},
   "outputs": [
    {
     "data": {
      "text/plain": [
       "KNeighborsClassifier(n_neighbors=95)"
      ]
     },
     "execution_count": 86,
     "metadata": {},
     "output_type": "execute_result"
    }
   ],
   "source": [
    "model2 = KNeighborsClassifier(n_neighbors = np.argmin(error_rates))\n",
    "model2.fit(X_train, y_train2)"
   ]
  },
  {
   "cell_type": "code",
   "execution_count": 87,
   "metadata": {},
   "outputs": [],
   "source": [
    "predictions2 = model2.predict(X_test)"
   ]
  },
  {
   "cell_type": "code",
   "execution_count": 88,
   "metadata": {},
   "outputs": [
    {
     "name": "stdout",
     "output_type": "stream",
     "text": [
      "              precision    recall  f1-score   support\n",
      "\n",
      "           0       0.36      0.60      0.45       127\n",
      "           1       0.35      0.40      0.37       156\n",
      "           2       0.28      0.14      0.18        88\n",
      "           3       0.00      0.00      0.00        43\n",
      "           4       0.00      0.00      0.00        11\n",
      "           5       0.00      0.00      0.00         4\n",
      "           6       0.00      0.00      0.00         2\n",
      "           7       0.00      0.00      0.00         1\n",
      "           9       0.00      0.00      0.00         1\n",
      "\n",
      "    accuracy                           0.35       433\n",
      "   macro avg       0.11      0.13      0.11       433\n",
      "weighted avg       0.29      0.35      0.30       433\n",
      "\n"
     ]
    },
    {
     "name": "stderr",
     "output_type": "stream",
     "text": [
      "c:\\users\\egor\\appdata\\local\\programs\\python\\python39\\lib\\site-packages\\sklearn\\metrics\\_classification.py:1248: UndefinedMetricWarning: Precision and F-score are ill-defined and being set to 0.0 in labels with no predicted samples. Use `zero_division` parameter to control this behavior.\n",
      "  _warn_prf(average, modifier, msg_start, len(result))\n",
      "c:\\users\\egor\\appdata\\local\\programs\\python\\python39\\lib\\site-packages\\sklearn\\metrics\\_classification.py:1248: UndefinedMetricWarning: Precision and F-score are ill-defined and being set to 0.0 in labels with no predicted samples. Use `zero_division` parameter to control this behavior.\n",
      "  _warn_prf(average, modifier, msg_start, len(result))\n",
      "c:\\users\\egor\\appdata\\local\\programs\\python\\python39\\lib\\site-packages\\sklearn\\metrics\\_classification.py:1248: UndefinedMetricWarning: Precision and F-score are ill-defined and being set to 0.0 in labels with no predicted samples. Use `zero_division` parameter to control this behavior.\n",
      "  _warn_prf(average, modifier, msg_start, len(result))\n"
     ]
    }
   ],
   "source": [
    "print(classification_report(y_test2, predictions2))"
   ]
  },
  {
   "cell_type": "code",
   "execution_count": 89,
   "metadata": {},
   "outputs": [
    {
     "data": {
      "text/plain": [
       "array([1, 0, 0, 0, 1, 1, 0, 0, 1, 1, 0, 1, 0, 1, 0, 0, 1, 1, 0, 1, 1, 1,\n",
       "       1, 2, 0, 0, 1, 1, 2, 1, 0, 1, 0, 0, 0, 1, 0, 0, 0, 0, 0, 0, 0, 1,\n",
       "       2, 1, 0, 1, 0, 1, 1, 2, 0, 0, 0, 0, 0, 0, 0, 0, 0, 2, 0, 1, 0, 0,\n",
       "       0, 0, 1, 0, 1, 2, 0, 0, 1, 1, 0, 2, 0, 0, 0, 0, 0, 1, 2, 1, 0, 1,\n",
       "       0, 0, 0, 1, 1, 0, 0, 0, 0, 0, 1, 1, 0, 1, 2, 2, 0, 1, 0, 1, 1, 1,\n",
       "       1, 1, 0, 1, 0, 1, 1, 0, 0, 0, 1, 0, 0, 0, 0, 0, 1, 0, 0, 2, 0, 0,\n",
       "       0, 0, 0, 0, 1, 1, 1, 2, 1, 0, 1, 0, 1, 1, 1, 1, 2, 1, 0, 0, 0, 0,\n",
       "       0, 0, 2, 0, 0, 0, 1, 1, 2, 1, 1, 0, 1, 1, 0, 0, 2, 0, 1, 0, 0, 2,\n",
       "       0, 1, 1, 2, 1, 0, 1, 2, 0, 1, 0, 0, 1, 0, 1, 1, 0, 0, 1, 0, 1, 0,\n",
       "       1, 2, 2, 1, 1, 1, 0, 1, 0, 0, 0, 0, 0, 0, 1, 1, 0, 1, 1, 0, 1, 2,\n",
       "       1, 0, 1, 0, 0, 1, 1, 0, 0, 0, 1, 1, 1, 0, 1, 0, 1, 1, 1, 1, 1, 2,\n",
       "       0, 0, 2, 0, 1, 1, 0, 0, 0, 0, 0, 1, 2, 0, 1, 1, 0, 0, 1, 1, 0, 0,\n",
       "       0, 1, 2, 1, 0, 0, 1, 0, 0, 1, 0, 0, 0, 1, 1, 0, 0, 1, 1, 0, 0, 0,\n",
       "       0, 1, 1, 1, 0, 1, 0, 1, 1, 1, 1, 0, 2, 0, 2, 1, 1, 0, 1, 2, 2, 2,\n",
       "       0, 1, 1, 1, 0, 2, 1, 1, 1, 0, 0, 0, 0, 0, 0, 0, 0, 0, 2, 1, 0, 1,\n",
       "       1, 1, 1, 0, 1, 1, 0, 1, 1, 1, 0, 1, 0, 2, 0, 1, 0, 1, 1, 0, 2, 0,\n",
       "       1, 2, 0, 0, 1, 1, 0, 1, 0, 1, 2, 0, 0, 1, 0, 0, 1, 0, 0, 0, 1, 0,\n",
       "       2, 2, 1, 0, 0, 0, 0, 1, 1, 1, 0, 1, 1, 1, 1, 0, 1, 0, 0, 1, 1, 0,\n",
       "       0, 0, 1, 2, 0, 2, 1, 0, 0, 0, 1, 1, 1, 1, 0, 1, 0, 0, 0, 0, 2, 0,\n",
       "       1, 0, 1, 0, 0, 1, 0, 0, 2, 0, 1, 0, 1, 1, 1], dtype=int64)"
      ]
     },
     "execution_count": 89,
     "metadata": {},
     "output_type": "execute_result"
    }
   ],
   "source": [
    "predictions2"
   ]
  },
  {
   "cell_type": "markdown",
   "metadata": {},
   "source": [
    "# Test acc"
   ]
  },
  {
   "cell_type": "code",
   "execution_count": 90,
   "metadata": {},
   "outputs": [],
   "source": [
    "test_pred = np.logical_and(predictions1, predictions2)\n",
    "test_pred = [0 if x==False else x for x in test_pred]\n",
    "test_pred = [1 if x==True else x for x in test_pred]"
   ]
  },
  {
   "cell_type": "code",
   "execution_count": 91,
   "metadata": {},
   "outputs": [
    {
     "data": {
      "text/plain": [
       "1979    0\n",
       "1980    0\n",
       "1981    1\n",
       "1982    0\n",
       "1983    0\n",
       "       ..\n",
       "2465    1\n",
       "2466    1\n",
       "2467    0\n",
       "2468    1\n",
       "2469    1\n",
       "Name: category, Length: 433, dtype: int64"
      ]
     },
     "execution_count": 91,
     "metadata": {},
     "output_type": "execute_result"
    }
   ],
   "source": [
    "test_real_value = train_df['category'][int(len(Y_expected1)*0.8):len(Y_expected1)]\n",
    "test_real_value"
   ]
  },
  {
   "cell_type": "code",
   "execution_count": 92,
   "metadata": {},
   "outputs": [
    {
     "name": "stdout",
     "output_type": "stream",
     "text": [
      "ACC:  0.51\n"
     ]
    }
   ],
   "source": [
    "acc = 0\n",
    "for elem1, elem2 in zip(test_pred, test_real_value):\n",
    "    if elem1 == elem2:\n",
    "        acc += 1\n",
    "print(\"ACC: \", np.round((acc / len(test_real_value)), 3))"
   ]
  },
  {
   "cell_type": "markdown",
   "metadata": {
    "id": "KKm-keClFa1Q"
   },
   "source": [
    "# Make a submission"
   ]
  },
  {
   "cell_type": "code",
   "execution_count": 93,
   "metadata": {},
   "outputs": [
    {
     "ename": "ValueError",
     "evalue": "Input contains NaN, infinity or a value too large for dtype('float64').",
     "output_type": "error",
     "traceback": [
      "\u001b[1;31m---------------------------------------------------------------------------\u001b[0m",
      "\u001b[1;31mValueError\u001b[0m                                Traceback (most recent call last)",
      "\u001b[1;32m<ipython-input-93-1158d68a9594>\u001b[0m in \u001b[0;36m<module>\u001b[1;34m\u001b[0m\n\u001b[1;32m----> 1\u001b[1;33m \u001b[0mfin_pred1\u001b[0m \u001b[1;33m=\u001b[0m \u001b[0mmodel1\u001b[0m\u001b[1;33m.\u001b[0m\u001b[0mpredict\u001b[0m\u001b[1;33m(\u001b[0m\u001b[0mtest_df\u001b[0m\u001b[1;33m)\u001b[0m\u001b[1;33m\u001b[0m\u001b[1;33m\u001b[0m\u001b[0m\n\u001b[0m\u001b[0;32m      2\u001b[0m \u001b[0mtmp1\u001b[0m \u001b[1;33m=\u001b[0m \u001b[1;33m[\u001b[0m\u001b[1;33m]\u001b[0m\u001b[1;33m\u001b[0m\u001b[1;33m\u001b[0m\u001b[0m\n\u001b[0;32m      3\u001b[0m \u001b[1;32mfor\u001b[0m \u001b[0mi\u001b[0m \u001b[1;32min\u001b[0m \u001b[0mfin_pred1\u001b[0m\u001b[1;33m:\u001b[0m\u001b[1;33m\u001b[0m\u001b[1;33m\u001b[0m\u001b[0m\n\u001b[0;32m      4\u001b[0m     \u001b[1;32mif\u001b[0m \u001b[0mi\u001b[0m\u001b[1;33m.\u001b[0m\u001b[0margmax\u001b[0m\u001b[1;33m(\u001b[0m\u001b[1;33m)\u001b[0m \u001b[1;33m!=\u001b[0m \u001b[1;36m0\u001b[0m\u001b[1;33m:\u001b[0m\u001b[1;33m\u001b[0m\u001b[1;33m\u001b[0m\u001b[0m\n\u001b[0;32m      5\u001b[0m         \u001b[0mtmp1\u001b[0m\u001b[1;33m.\u001b[0m\u001b[0mappend\u001b[0m\u001b[1;33m(\u001b[0m\u001b[1;36m1\u001b[0m\u001b[1;33m)\u001b[0m\u001b[1;33m\u001b[0m\u001b[1;33m\u001b[0m\u001b[0m\n",
      "\u001b[1;32mc:\\users\\egor\\appdata\\local\\programs\\python\\python39\\lib\\site-packages\\sklearn\\neighbors\\_classification.py\u001b[0m in \u001b[0;36mpredict\u001b[1;34m(self, X)\u001b[0m\n\u001b[0;32m    193\u001b[0m             \u001b[0mClass\u001b[0m \u001b[0mlabels\u001b[0m \u001b[1;32mfor\u001b[0m \u001b[0meach\u001b[0m \u001b[0mdata\u001b[0m \u001b[0msample\u001b[0m\u001b[1;33m.\u001b[0m\u001b[1;33m\u001b[0m\u001b[1;33m\u001b[0m\u001b[0m\n\u001b[0;32m    194\u001b[0m         \"\"\"\n\u001b[1;32m--> 195\u001b[1;33m         \u001b[0mX\u001b[0m \u001b[1;33m=\u001b[0m \u001b[0mcheck_array\u001b[0m\u001b[1;33m(\u001b[0m\u001b[0mX\u001b[0m\u001b[1;33m,\u001b[0m \u001b[0maccept_sparse\u001b[0m\u001b[1;33m=\u001b[0m\u001b[1;34m'csr'\u001b[0m\u001b[1;33m)\u001b[0m\u001b[1;33m\u001b[0m\u001b[1;33m\u001b[0m\u001b[0m\n\u001b[0m\u001b[0;32m    196\u001b[0m \u001b[1;33m\u001b[0m\u001b[0m\n\u001b[0;32m    197\u001b[0m         \u001b[0mneigh_dist\u001b[0m\u001b[1;33m,\u001b[0m \u001b[0mneigh_ind\u001b[0m \u001b[1;33m=\u001b[0m \u001b[0mself\u001b[0m\u001b[1;33m.\u001b[0m\u001b[0mkneighbors\u001b[0m\u001b[1;33m(\u001b[0m\u001b[0mX\u001b[0m\u001b[1;33m)\u001b[0m\u001b[1;33m\u001b[0m\u001b[1;33m\u001b[0m\u001b[0m\n",
      "\u001b[1;32mc:\\users\\egor\\appdata\\local\\programs\\python\\python39\\lib\\site-packages\\sklearn\\utils\\validation.py\u001b[0m in \u001b[0;36minner_f\u001b[1;34m(*args, **kwargs)\u001b[0m\n\u001b[0;32m     61\u001b[0m             \u001b[0mextra_args\u001b[0m \u001b[1;33m=\u001b[0m \u001b[0mlen\u001b[0m\u001b[1;33m(\u001b[0m\u001b[0margs\u001b[0m\u001b[1;33m)\u001b[0m \u001b[1;33m-\u001b[0m \u001b[0mlen\u001b[0m\u001b[1;33m(\u001b[0m\u001b[0mall_args\u001b[0m\u001b[1;33m)\u001b[0m\u001b[1;33m\u001b[0m\u001b[1;33m\u001b[0m\u001b[0m\n\u001b[0;32m     62\u001b[0m             \u001b[1;32mif\u001b[0m \u001b[0mextra_args\u001b[0m \u001b[1;33m<=\u001b[0m \u001b[1;36m0\u001b[0m\u001b[1;33m:\u001b[0m\u001b[1;33m\u001b[0m\u001b[1;33m\u001b[0m\u001b[0m\n\u001b[1;32m---> 63\u001b[1;33m                 \u001b[1;32mreturn\u001b[0m \u001b[0mf\u001b[0m\u001b[1;33m(\u001b[0m\u001b[1;33m*\u001b[0m\u001b[0margs\u001b[0m\u001b[1;33m,\u001b[0m \u001b[1;33m**\u001b[0m\u001b[0mkwargs\u001b[0m\u001b[1;33m)\u001b[0m\u001b[1;33m\u001b[0m\u001b[1;33m\u001b[0m\u001b[0m\n\u001b[0m\u001b[0;32m     64\u001b[0m \u001b[1;33m\u001b[0m\u001b[0m\n\u001b[0;32m     65\u001b[0m             \u001b[1;31m# extra_args > 0\u001b[0m\u001b[1;33m\u001b[0m\u001b[1;33m\u001b[0m\u001b[1;33m\u001b[0m\u001b[0m\n",
      "\u001b[1;32mc:\\users\\egor\\appdata\\local\\programs\\python\\python39\\lib\\site-packages\\sklearn\\utils\\validation.py\u001b[0m in \u001b[0;36mcheck_array\u001b[1;34m(array, accept_sparse, accept_large_sparse, dtype, order, copy, force_all_finite, ensure_2d, allow_nd, ensure_min_samples, ensure_min_features, estimator)\u001b[0m\n\u001b[0;32m    718\u001b[0m \u001b[1;33m\u001b[0m\u001b[0m\n\u001b[0;32m    719\u001b[0m         \u001b[1;32mif\u001b[0m \u001b[0mforce_all_finite\u001b[0m\u001b[1;33m:\u001b[0m\u001b[1;33m\u001b[0m\u001b[1;33m\u001b[0m\u001b[0m\n\u001b[1;32m--> 720\u001b[1;33m             _assert_all_finite(array,\n\u001b[0m\u001b[0;32m    721\u001b[0m                                allow_nan=force_all_finite == 'allow-nan')\n\u001b[0;32m    722\u001b[0m \u001b[1;33m\u001b[0m\u001b[0m\n",
      "\u001b[1;32mc:\\users\\egor\\appdata\\local\\programs\\python\\python39\\lib\\site-packages\\sklearn\\utils\\validation.py\u001b[0m in \u001b[0;36m_assert_all_finite\u001b[1;34m(X, allow_nan, msg_dtype)\u001b[0m\n\u001b[0;32m    101\u001b[0m                 not allow_nan and not np.isfinite(X).all()):\n\u001b[0;32m    102\u001b[0m             \u001b[0mtype_err\u001b[0m \u001b[1;33m=\u001b[0m \u001b[1;34m'infinity'\u001b[0m \u001b[1;32mif\u001b[0m \u001b[0mallow_nan\u001b[0m \u001b[1;32melse\u001b[0m \u001b[1;34m'NaN, infinity'\u001b[0m\u001b[1;33m\u001b[0m\u001b[1;33m\u001b[0m\u001b[0m\n\u001b[1;32m--> 103\u001b[1;33m             raise ValueError(\n\u001b[0m\u001b[0;32m    104\u001b[0m                     \u001b[0mmsg_err\u001b[0m\u001b[1;33m.\u001b[0m\u001b[0mformat\u001b[0m\u001b[1;33m\u001b[0m\u001b[1;33m\u001b[0m\u001b[0m\n\u001b[0;32m    105\u001b[0m                     (type_err,\n",
      "\u001b[1;31mValueError\u001b[0m: Input contains NaN, infinity or a value too large for dtype('float64')."
     ]
    }
   ],
   "source": [
    "fin_pred1 = model1.predict(test_df)\n",
    "tmp1 = []\n",
    "for i in fin_pred1:\n",
    "    if i.argmax() != 0:\n",
    "        tmp1.append(1)\n",
    "    else:\n",
    "        tmp1.append(0)\n",
    "\n",
    "print(tmp1)"
   ]
  },
  {
   "cell_type": "code",
   "execution_count": null,
   "metadata": {},
   "outputs": [],
   "source": [
    "fin_pred2 = model2.predict(test_df)\n",
    "tmp2 = []\n",
    "for i in fin_pred2:\n",
    "    if i.argmax() != 0:\n",
    "        tmp2.append(1)\n",
    "    else:\n",
    "        tmp2.append(0)\n",
    "\n",
    "print(tmp2)"
   ]
  },
  {
   "cell_type": "code",
   "execution_count": null,
   "metadata": {},
   "outputs": [],
   "source": [
    "Answer = np.logical_and(tmp1, tmp2)\n",
    "Answer = [0 if x==False else x for x in Answer]\n",
    "Answer = [1 if x==True else x for x in Answer]"
   ]
  },
  {
   "cell_type": "code",
   "execution_count": null,
   "metadata": {
    "id": "_b27gGlzPE2w"
   },
   "outputs": [],
   "source": [
    "sample_submission = pd.read_csv('sample_submission.csv')\n",
    "sample_submission['tmp'] = Answer\n",
    "sample_submission.drop(['category'], axis = 1, inplace= True)\n",
    "sample_submission = sample_submission.rename(columns={\"tmp\": \"category\"})\n",
    "sample_submission.to_csv('Answer.csv', index = False)"
   ]
  },
  {
   "cell_type": "code",
   "execution_count": null,
   "metadata": {},
   "outputs": [],
   "source": [
    "sample_submission"
   ]
  }
 ],
 "metadata": {
  "accelerator": "GPU",
  "colab": {
   "collapsed_sections": [],
   "provenance": []
  },
  "kernelspec": {
   "display_name": "Python 3",
   "language": "python",
   "name": "python3"
  },
  "language_info": {
   "codemirror_mode": {
    "name": "ipython",
    "version": 3
   },
   "file_extension": ".py",
   "mimetype": "text/x-python",
   "name": "python",
   "nbconvert_exporter": "python",
   "pygments_lexer": "ipython3",
   "version": "3.9.0"
  },
  "nbTranslate": {
   "displayLangs": [
    "*"
   ],
   "hotkey": "alt-t",
   "langInMainMenu": true,
   "sourceLang": "en",
   "targetLang": "fr",
   "useGoogleTranslate": true
  },
  "toc": {
   "base_numbering": 1,
   "nav_menu": {},
   "number_sections": true,
   "sideBar": true,
   "skip_h1_title": false,
   "title_cell": "Table of Contents",
   "title_sidebar": "Contents",
   "toc_cell": false,
   "toc_position": {},
   "toc_section_display": true,
   "toc_window_display": false
  },
  "varInspector": {
   "cols": {
    "lenName": 16,
    "lenType": 16,
    "lenVar": 40
   },
   "kernels_config": {
    "python": {
     "delete_cmd_postfix": "",
     "delete_cmd_prefix": "del ",
     "library": "var_list.py",
     "varRefreshCmd": "print(var_dic_list())"
    },
    "r": {
     "delete_cmd_postfix": ") ",
     "delete_cmd_prefix": "rm(",
     "library": "var_list.r",
     "varRefreshCmd": "cat(var_dic_list()) "
    }
   },
   "types_to_exclude": [
    "module",
    "function",
    "builtin_function_or_method",
    "instance",
    "_Feature"
   ],
   "window_display": false
  }
 },
 "nbformat": 4,
 "nbformat_minor": 1
}
